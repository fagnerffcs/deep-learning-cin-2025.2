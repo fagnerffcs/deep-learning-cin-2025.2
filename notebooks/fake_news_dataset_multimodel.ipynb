{
  "nbformat": 4,
  "nbformat_minor": 0,
  "metadata": {
    "colab": {
      "provenance": [],
      "gpuType": "T4"
    },
    "kernelspec": {
      "name": "python3",
      "display_name": "Python 3"
    },
    "language_info": {
      "name": "python"
    },
    "accelerator": "GPU"
  },
  "cells": [
    {
      "cell_type": "markdown",
      "source": [
        "Instalando pacotes"
      ],
      "metadata": {
        "id": "mWnpmRWVumhd"
      }
    },
    {
      "cell_type": "code",
      "source": [
        "# Remova versões conflitantes\n",
        "!pip uninstall -y torch torchvision torchaudio transformers peft sentence-transformers\n",
        "\n",
        "# Instale versões compatíveis\n",
        "!pip install torch==2.3.0 torchvision==0.18.0 torchaudio==2.3.0\n",
        "!pip install transformers==4.51.3  # Versão mais nova que inclui EncoderDecoderCache\n",
        "!pip install peft==0.15.2\n",
        "!pip install sentence-transformers==2.5.1\n",
        "!pip install optuna"
      ],
      "metadata": {
        "id": "YKrOmWIEutGN",
        "colab": {
          "base_uri": "https://localhost:8080/"
        },
        "outputId": "a9c84c61-e2f1-429b-bd55-679755f49650"
      },
      "execution_count": null,
      "outputs": [
        {
          "output_type": "stream",
          "name": "stdout",
          "text": [
            "Found existing installation: torch 2.6.0+cu124\n",
            "Uninstalling torch-2.6.0+cu124:\n"
          ]
        }
      ]
    },
    {
      "cell_type": "code",
      "execution_count": 1,
      "metadata": {
        "id": "u65aY4nXrvHo"
      },
      "outputs": [],
      "source": [
        "# 1. Imports\n",
        "import pandas as pd\n",
        "import numpy as np\n",
        "from sklearn.model_selection import train_test_split\n",
        "from sklearn.feature_extraction.text import CountVectorizer, TfidfVectorizer\n",
        "from sklearn.naive_bayes import MultinomialNB\n",
        "from sklearn.linear_model import LogisticRegression\n",
        "from sklearn.ensemble import RandomForestClassifier\n",
        "from xgboost import XGBClassifier\n",
        "from sklearn.metrics import accuracy_score, precision_score, recall_score, f1_score, confusion_matrix\n",
        "from transformers import BertTokenizer, BertForSequenceClassification, Trainer, TrainingArguments\n",
        "import torch\n",
        "from torch.utils.data import Dataset"
      ]
    },
    {
      "cell_type": "code",
      "source": [],
      "metadata": {
        "id": "WPlYWE1fupwV"
      },
      "execution_count": null,
      "outputs": []
    },
    {
      "cell_type": "markdown",
      "source": [
        "# 2. Load Dataset"
      ],
      "metadata": {
        "id": "QoJCP_OXr2R3"
      }
    },
    {
      "cell_type": "code",
      "source": [
        "#Combining the datasets into one dataframe\n",
        "import kagglehub, os\n",
        "path = kagglehub.dataset_download(\"emineyetm/fake-news-detection-datasets\")\n",
        "print(\"Path to dataset files:\", path)\n",
        "\n",
        "true_path = None\n",
        "fake_path = None\n",
        "\n",
        "for dirname, _, filenames in os.walk('/kaggle/input'):\n",
        "    for filename in filenames:\n",
        "        full_path = os.path.join(dirname, filename)\n",
        "        if filename.lower() == 'true.csv':\n",
        "            true_path = full_path\n",
        "        elif filename.lower() == 'fake.csv':\n",
        "            fake_path = full_path\n",
        "\n",
        "#Combining the datasets into one dataframe\n",
        "dataframeT = pd.read_csv(true_path)\n",
        "dataframeF = pd.read_csv(fake_path)\n",
        "dataframeT['label'] = 1\n",
        "dataframeF['label'] = 0\n",
        "data = pd.concat([dataframeT, dataframeF], axis=0).sample(frac=1, random_state=42)"
      ],
      "metadata": {
        "colab": {
          "base_uri": "https://localhost:8080/"
        },
        "id": "PAVVX3Y9z3A4",
        "outputId": "82296fbc-1f37-42fe-add7-3ff44a34d665"
      },
      "execution_count": 3,
      "outputs": [
        {
          "output_type": "stream",
          "name": "stdout",
          "text": [
            "Path to dataset files: /kaggle/input/fake-news-detection-datasets\n"
          ]
        }
      ]
    },
    {
      "cell_type": "markdown",
      "source": [
        "3. Data Cleaning"
      ],
      "metadata": {
        "id": "gK8WhsxlOpma"
      }
    },
    {
      "cell_type": "code",
      "source": [
        "#used for data cleaning\n",
        "import re\n",
        "import nltk\n",
        "from nltk.corpus import stopwords\n",
        "from sklearn.feature_extraction.text import TfidfVectorizer\n",
        "\n",
        "nltk.download('stopwords')\n",
        "stop_words = set(stopwords.words('english'))\n",
        "\n",
        "def clean_text(text):\n",
        "    text = re.sub(r'[^\\w\\s]', '', text)  #removes punctuation\n",
        "    text = re.sub(r'\\d+', '', text)  #removes numbers\n",
        "    text = text.lower()  #turns everything to lowercase\n",
        "    text = ' '.join([word for word in text.split() if word not in stop_words]) #gets rid of stop words\n",
        "    return text\n",
        "\n",
        "data['text'] = data['text'].apply(clean_text) #applies changes"
      ],
      "metadata": {
        "colab": {
          "base_uri": "https://localhost:8080/"
        },
        "id": "k06zUuc9OrwL",
        "outputId": "5f870a4f-325c-492f-eeba-64721b48815d"
      },
      "execution_count": 4,
      "outputs": [
        {
          "output_type": "stream",
          "name": "stderr",
          "text": [
            "[nltk_data] Downloading package stopwords to /root/nltk_data...\n",
            "[nltk_data]   Package stopwords is already up-to-date!\n"
          ]
        }
      ]
    },
    {
      "cell_type": "markdown",
      "source": [
        "3. Preprocessing"
      ],
      "metadata": {
        "id": "Z2jHlEQUrv6_"
      }
    },
    {
      "cell_type": "code",
      "source": [
        "#some train test splitting, 20%\n",
        "X = data['text']\n",
        "y = data['label']\n",
        "X_train, X_test, y_train, y_test = train_test_split(X, y, test_size=0.2, random_state=142857)"
      ],
      "metadata": {
        "id": "OoOa28EWz-R_"
      },
      "execution_count": 5,
      "outputs": []
    },
    {
      "cell_type": "markdown",
      "source": [
        "# 4. Bag of Words + Naive Bayes"
      ],
      "metadata": {
        "id": "qMRvnHky0Adv"
      }
    },
    {
      "cell_type": "code",
      "source": [
        "bow = CountVectorizer(max_features=5000)\n",
        "X_train_bow = bow.fit_transform(X_train)\n",
        "X_test_bow = bow.transform(X_test)\n",
        "bow_model = MultinomialNB()\n",
        "bow_model.fit(X_train_bow, y_train)\n",
        "y_pred_bow = bow_model.predict(X_test_bow)"
      ],
      "metadata": {
        "id": "5q8KDaoa0BX3"
      },
      "execution_count": 6,
      "outputs": []
    },
    {
      "cell_type": "markdown",
      "source": [
        "5. TF-IDF + Logistic Regression"
      ],
      "metadata": {
        "id": "mZoT9Drc0GPP"
      }
    },
    {
      "cell_type": "code",
      "source": [
        "tfidf = TfidfVectorizer(max_features=5000)\n",
        "X_train_tfidf = tfidf.fit_transform(X_train)\n",
        "X_test_tfidf = tfidf.transform(X_test)\n",
        "tfidf_model = LogisticRegression(max_iter=1000)\n",
        "tfidf_model.fit(X_train_tfidf, y_train)\n",
        "y_pred_tfidf = tfidf_model.predict(X_test_tfidf)"
      ],
      "metadata": {
        "id": "uqdn0Hwl0Jmf"
      },
      "execution_count": 7,
      "outputs": []
    },
    {
      "cell_type": "code",
      "source": [
        "# Carrega o modelo com vetores pré-treinados (~100MB, mais leve que Word2Vec do Google)\n",
        "!python -m spacy download en_core_web_md"
      ],
      "metadata": {
        "colab": {
          "base_uri": "https://localhost:8080/"
        },
        "id": "ryyJG0ZeQwYt",
        "outputId": "704dece4-0f6a-4f4a-c65a-f03dc8c5430e"
      },
      "execution_count": 8,
      "outputs": [
        {
          "output_type": "stream",
          "name": "stdout",
          "text": [
            "Collecting en-core-web-md==3.8.0\n",
            "  Downloading https://github.com/explosion/spacy-models/releases/download/en_core_web_md-3.8.0/en_core_web_md-3.8.0-py3-none-any.whl (33.5 MB)\n",
            "\u001b[2K     \u001b[90m━━━━━━━━━━━━━━━━━━━━━━━━━━━━━━━━━━━━━━━━\u001b[0m \u001b[32m33.5/33.5 MB\u001b[0m \u001b[31m1.2 MB/s\u001b[0m eta \u001b[36m0:00:00\u001b[0m\n",
            "\u001b[?25h\u001b[38;5;2m✔ Download and installation successful\u001b[0m\n",
            "You can now load the package via spacy.load('en_core_web_md')\n",
            "\u001b[38;5;3m⚠ Restart to reload dependencies\u001b[0m\n",
            "If you are in a Jupyter or Colab notebook, you may need to restart Python in\n",
            "order to load all the package's dependencies. You can do this by selecting the\n",
            "'Restart kernel' or 'Restart runtime' option.\n"
          ]
        }
      ]
    },
    {
      "cell_type": "markdown",
      "source": [
        "6. Word2Vec + Random Forest"
      ],
      "metadata": {
        "id": "7qgmwu2O0NiY"
      }
    },
    {
      "cell_type": "code",
      "source": [
        "import spacy\n",
        "import numpy as np\n",
        "from sklearn.ensemble import RandomForestClassifier\n",
        "\n",
        "# Carrega o modelo com embeddings pré-treinados (~100MB)\n",
        "nlp = spacy.load(\"en_core_web_md\")\n",
        "\n",
        "# Função para vetorizar textos com spaCy\n",
        "def vectorize_spacy(texts):\n",
        "    vectors = []\n",
        "    for doc in nlp.pipe(texts, disable=[\"ner\", \"parser\"]):\n",
        "        vectors.append(doc.vector)\n",
        "    return np.array(vectors)\n",
        "\n",
        "# Vetorização dos conjuntos de treino e teste\n",
        "X_train_w2v = vectorize_spacy(X_train)\n",
        "X_test_w2v = vectorize_spacy(X_test)\n",
        "\n",
        "# Classificador com Random Forest\n",
        "w2v_model_clf = RandomForestClassifier()\n",
        "w2v_model_clf.fit(X_train_w2v, y_train)\n",
        "y_pred_w2v = w2v_model_clf.predict(X_test_w2v)"
      ],
      "metadata": {
        "id": "aCH68lwh0RRX"
      },
      "execution_count": 9,
      "outputs": []
    },
    {
      "cell_type": "markdown",
      "source": [
        "# 7. GloVe + XGBoost"
      ],
      "metadata": {
        "id": "VG7JbInm0SII"
      }
    },
    {
      "cell_type": "code",
      "source": [
        "# Simulando GloVe com Word2Vec para simplificar, mas pode-se usar GloVe real\n",
        "X_train_glove = X_train_w2v\n",
        "X_test_glove = X_test_w2v\n",
        "glove_model = XGBClassifier(eval_metric='logloss')\n",
        "glove_model.fit(X_train_glove, y_train)\n",
        "y_pred_glove = glove_model.predict(X_test_glove)"
      ],
      "metadata": {
        "id": "U2yl0rmg0UuA"
      },
      "execution_count": 10,
      "outputs": []
    },
    {
      "cell_type": "markdown",
      "source": [
        "8. BERT + Fine Tuning"
      ],
      "metadata": {
        "id": "M8SMUns20VVA"
      }
    },
    {
      "cell_type": "code",
      "source": [
        "class FakeNewsDataset(Dataset):\n",
        "    def __init__(self, texts, labels, tokenizer, max_len=512):\n",
        "        self.encodings = tokenizer(list(texts), truncation=True, padding=True, max_length=max_len)\n",
        "        self.labels = list(labels)\n",
        "\n",
        "    def __len__(self):\n",
        "        return len(self.labels)\n",
        "\n",
        "    def __getitem__(self, idx):\n",
        "        item = {key: torch.tensor(val[idx]) for key, val in self.encodings.items()}\n",
        "        item['labels'] = torch.tensor(self.labels[idx])\n",
        "        return item\n",
        "\n",
        "tokenizer = BertTokenizer.from_pretrained(\"bert-base-uncased\")\n",
        "model = BertForSequenceClassification.from_pretrained(\"bert-base-uncased\", num_labels=2)\n",
        "train_dataset = FakeNewsDataset(X_train[:2000], y_train[:2000], tokenizer)\n",
        "test_dataset = FakeNewsDataset(X_test[:500], y_test[:500], tokenizer)\n",
        "\n",
        "training_args = TrainingArguments(output_dir=\"./results\", per_device_train_batch_size=8, per_device_eval_batch_size=8, num_train_epochs=2, logging_dir=\"./logs\", logging_steps=10)\n",
        "\n",
        "trainer = Trainer(model=model, args=training_args, train_dataset=train_dataset, eval_dataset=test_dataset)\n",
        "trainer.train()\n",
        "preds = trainer.predict(test_dataset)\n",
        "y_pred_bert = np.argmax(preds.predictions, axis=1)\n",
        "y_true_bert = y_test[:500].values"
      ],
      "metadata": {
        "colab": {
          "base_uri": "https://localhost:8080/",
          "height": 1000
        },
        "id": "xVcufBzU0acg",
        "outputId": "ce4c0a34-908c-4a5c-b5c4-3e2d2175c531"
      },
      "execution_count": 11,
      "outputs": [
        {
          "output_type": "stream",
          "name": "stderr",
          "text": [
            "/usr/local/lib/python3.11/dist-packages/huggingface_hub/utils/_auth.py:94: UserWarning: \n",
            "The secret `HF_TOKEN` does not exist in your Colab secrets.\n",
            "To authenticate with the Hugging Face Hub, create a token in your settings tab (https://huggingface.co/settings/tokens), set it as secret in your Google Colab and restart your session.\n",
            "You will be able to reuse this secret in all of your notebooks.\n",
            "Please note that authentication is recommended but still optional to access public models or datasets.\n",
            "  warnings.warn(\n",
            "Some weights of BertForSequenceClassification were not initialized from the model checkpoint at bert-base-uncased and are newly initialized: ['classifier.bias', 'classifier.weight']\n",
            "You should probably TRAIN this model on a down-stream task to be able to use it for predictions and inference.\n",
            "\u001b[34m\u001b[1mwandb\u001b[0m: \u001b[33mWARNING\u001b[0m The `run_name` is currently set to the same value as `TrainingArguments.output_dir`. If this was not intended, please specify a different run name by setting the `TrainingArguments.run_name` parameter.\n",
            "\u001b[34m\u001b[1mwandb\u001b[0m: Currently logged in as: \u001b[33mffcs\u001b[0m (\u001b[33mffcs-cin-ufpe\u001b[0m) to \u001b[32mhttps://api.wandb.ai\u001b[0m. Use \u001b[1m`wandb login --relogin`\u001b[0m to force relogin\n"
          ]
        },
        {
          "output_type": "display_data",
          "data": {
            "text/plain": [
              "<IPython.core.display.HTML object>"
            ],
            "text/html": [
              "Tracking run with wandb version 0.19.11"
            ]
          },
          "metadata": {}
        },
        {
          "output_type": "display_data",
          "data": {
            "text/plain": [
              "<IPython.core.display.HTML object>"
            ],
            "text/html": [
              "Run data is saved locally in <code>/content/wandb/run-20250514_005607-seno7u0c</code>"
            ]
          },
          "metadata": {}
        },
        {
          "output_type": "display_data",
          "data": {
            "text/plain": [
              "<IPython.core.display.HTML object>"
            ],
            "text/html": [
              "Syncing run <strong><a href='https://wandb.ai/ffcs-cin-ufpe/huggingface/runs/seno7u0c' target=\"_blank\">./results</a></strong> to <a href='https://wandb.ai/ffcs-cin-ufpe/huggingface' target=\"_blank\">Weights & Biases</a> (<a href='https://wandb.me/developer-guide' target=\"_blank\">docs</a>)<br>"
            ]
          },
          "metadata": {}
        },
        {
          "output_type": "display_data",
          "data": {
            "text/plain": [
              "<IPython.core.display.HTML object>"
            ],
            "text/html": [
              " View project at <a href='https://wandb.ai/ffcs-cin-ufpe/huggingface' target=\"_blank\">https://wandb.ai/ffcs-cin-ufpe/huggingface</a>"
            ]
          },
          "metadata": {}
        },
        {
          "output_type": "display_data",
          "data": {
            "text/plain": [
              "<IPython.core.display.HTML object>"
            ],
            "text/html": [
              " View run at <a href='https://wandb.ai/ffcs-cin-ufpe/huggingface/runs/seno7u0c' target=\"_blank\">https://wandb.ai/ffcs-cin-ufpe/huggingface/runs/seno7u0c</a>"
            ]
          },
          "metadata": {}
        },
        {
          "output_type": "display_data",
          "data": {
            "text/plain": [
              "<IPython.core.display.HTML object>"
            ],
            "text/html": [
              "\n",
              "    <div>\n",
              "      \n",
              "      <progress value='500' max='500' style='width:300px; height:20px; vertical-align: middle;'></progress>\n",
              "      [500/500 06:09, Epoch 2/2]\n",
              "    </div>\n",
              "    <table border=\"1\" class=\"dataframe\">\n",
              "  <thead>\n",
              " <tr style=\"text-align: left;\">\n",
              "      <th>Step</th>\n",
              "      <th>Training Loss</th>\n",
              "    </tr>\n",
              "  </thead>\n",
              "  <tbody>\n",
              "    <tr>\n",
              "      <td>10</td>\n",
              "      <td>0.611800</td>\n",
              "    </tr>\n",
              "    <tr>\n",
              "      <td>20</td>\n",
              "      <td>0.470400</td>\n",
              "    </tr>\n",
              "    <tr>\n",
              "      <td>30</td>\n",
              "      <td>0.161700</td>\n",
              "    </tr>\n",
              "    <tr>\n",
              "      <td>40</td>\n",
              "      <td>0.084000</td>\n",
              "    </tr>\n",
              "    <tr>\n",
              "      <td>50</td>\n",
              "      <td>0.065700</td>\n",
              "    </tr>\n",
              "    <tr>\n",
              "      <td>60</td>\n",
              "      <td>0.003400</td>\n",
              "    </tr>\n",
              "    <tr>\n",
              "      <td>70</td>\n",
              "      <td>0.002400</td>\n",
              "    </tr>\n",
              "    <tr>\n",
              "      <td>80</td>\n",
              "      <td>0.087200</td>\n",
              "    </tr>\n",
              "    <tr>\n",
              "      <td>90</td>\n",
              "      <td>0.027200</td>\n",
              "    </tr>\n",
              "    <tr>\n",
              "      <td>100</td>\n",
              "      <td>0.046000</td>\n",
              "    </tr>\n",
              "    <tr>\n",
              "      <td>110</td>\n",
              "      <td>0.034000</td>\n",
              "    </tr>\n",
              "    <tr>\n",
              "      <td>120</td>\n",
              "      <td>0.000600</td>\n",
              "    </tr>\n",
              "    <tr>\n",
              "      <td>130</td>\n",
              "      <td>0.000400</td>\n",
              "    </tr>\n",
              "    <tr>\n",
              "      <td>140</td>\n",
              "      <td>0.000300</td>\n",
              "    </tr>\n",
              "    <tr>\n",
              "      <td>150</td>\n",
              "      <td>0.000400</td>\n",
              "    </tr>\n",
              "    <tr>\n",
              "      <td>160</td>\n",
              "      <td>0.080100</td>\n",
              "    </tr>\n",
              "    <tr>\n",
              "      <td>170</td>\n",
              "      <td>0.000500</td>\n",
              "    </tr>\n",
              "    <tr>\n",
              "      <td>180</td>\n",
              "      <td>0.006000</td>\n",
              "    </tr>\n",
              "    <tr>\n",
              "      <td>190</td>\n",
              "      <td>0.000300</td>\n",
              "    </tr>\n",
              "    <tr>\n",
              "      <td>200</td>\n",
              "      <td>0.000200</td>\n",
              "    </tr>\n",
              "    <tr>\n",
              "      <td>210</td>\n",
              "      <td>0.000200</td>\n",
              "    </tr>\n",
              "    <tr>\n",
              "      <td>220</td>\n",
              "      <td>0.105100</td>\n",
              "    </tr>\n",
              "    <tr>\n",
              "      <td>230</td>\n",
              "      <td>0.076300</td>\n",
              "    </tr>\n",
              "    <tr>\n",
              "      <td>240</td>\n",
              "      <td>0.000300</td>\n",
              "    </tr>\n",
              "    <tr>\n",
              "      <td>250</td>\n",
              "      <td>0.000200</td>\n",
              "    </tr>\n",
              "    <tr>\n",
              "      <td>260</td>\n",
              "      <td>0.000200</td>\n",
              "    </tr>\n",
              "    <tr>\n",
              "      <td>270</td>\n",
              "      <td>0.000200</td>\n",
              "    </tr>\n",
              "    <tr>\n",
              "      <td>280</td>\n",
              "      <td>0.000200</td>\n",
              "    </tr>\n",
              "    <tr>\n",
              "      <td>290</td>\n",
              "      <td>0.000200</td>\n",
              "    </tr>\n",
              "    <tr>\n",
              "      <td>300</td>\n",
              "      <td>0.000200</td>\n",
              "    </tr>\n",
              "    <tr>\n",
              "      <td>310</td>\n",
              "      <td>0.000200</td>\n",
              "    </tr>\n",
              "    <tr>\n",
              "      <td>320</td>\n",
              "      <td>0.113900</td>\n",
              "    </tr>\n",
              "    <tr>\n",
              "      <td>330</td>\n",
              "      <td>0.077900</td>\n",
              "    </tr>\n",
              "    <tr>\n",
              "      <td>340</td>\n",
              "      <td>0.000600</td>\n",
              "    </tr>\n",
              "    <tr>\n",
              "      <td>350</td>\n",
              "      <td>0.000300</td>\n",
              "    </tr>\n",
              "    <tr>\n",
              "      <td>360</td>\n",
              "      <td>0.009500</td>\n",
              "    </tr>\n",
              "    <tr>\n",
              "      <td>370</td>\n",
              "      <td>0.000300</td>\n",
              "    </tr>\n",
              "    <tr>\n",
              "      <td>380</td>\n",
              "      <td>0.000200</td>\n",
              "    </tr>\n",
              "    <tr>\n",
              "      <td>390</td>\n",
              "      <td>0.000200</td>\n",
              "    </tr>\n",
              "    <tr>\n",
              "      <td>400</td>\n",
              "      <td>0.000200</td>\n",
              "    </tr>\n",
              "    <tr>\n",
              "      <td>410</td>\n",
              "      <td>0.101200</td>\n",
              "    </tr>\n",
              "    <tr>\n",
              "      <td>420</td>\n",
              "      <td>0.029300</td>\n",
              "    </tr>\n",
              "    <tr>\n",
              "      <td>430</td>\n",
              "      <td>0.000300</td>\n",
              "    </tr>\n",
              "    <tr>\n",
              "      <td>440</td>\n",
              "      <td>0.000500</td>\n",
              "    </tr>\n",
              "    <tr>\n",
              "      <td>450</td>\n",
              "      <td>0.000400</td>\n",
              "    </tr>\n",
              "    <tr>\n",
              "      <td>460</td>\n",
              "      <td>0.000500</td>\n",
              "    </tr>\n",
              "    <tr>\n",
              "      <td>470</td>\n",
              "      <td>0.000400</td>\n",
              "    </tr>\n",
              "    <tr>\n",
              "      <td>480</td>\n",
              "      <td>0.000300</td>\n",
              "    </tr>\n",
              "    <tr>\n",
              "      <td>490</td>\n",
              "      <td>0.000300</td>\n",
              "    </tr>\n",
              "    <tr>\n",
              "      <td>500</td>\n",
              "      <td>0.000300</td>\n",
              "    </tr>\n",
              "  </tbody>\n",
              "</table><p>"
            ]
          },
          "metadata": {}
        },
        {
          "output_type": "display_data",
          "data": {
            "text/plain": [
              "<IPython.core.display.HTML object>"
            ],
            "text/html": []
          },
          "metadata": {}
        }
      ]
    },
    {
      "cell_type": "markdown",
      "source": [
        "# 9. Evaluation Results"
      ],
      "metadata": {
        "id": "rcf5UvSa0by4"
      }
    },
    {
      "cell_type": "code",
      "source": [
        "def evaluate(name, y_true, y_pred):\n",
        "    print(f\"\\n=== {name} ===\")\n",
        "    print(\"Accuracy:\", accuracy_score(y_true, y_pred))\n",
        "    print(\"Precision:\", precision_score(y_true, y_pred))\n",
        "    print(\"Recall:\", recall_score(y_true, y_pred))\n",
        "    print(\"F1-score:\", f1_score(y_true, y_pred))\n",
        "\n",
        "evaluate(\"Bag of Words + NB\", y_test, y_pred_bow)\n",
        "evaluate(\"TF-IDF + LR\", y_test, y_pred_tfidf)\n",
        "evaluate(\"Word2Vec + RF\", y_test, y_pred_w2v)\n",
        "evaluate(\"GloVe + XGBoost\", y_test, y_pred_glove)\n",
        "evaluate(\"BERT\", y_true_bert, y_pred_bert)"
      ],
      "metadata": {
        "id": "khFMjdmV0eKx",
        "colab": {
          "base_uri": "https://localhost:8080/"
        },
        "outputId": "84e28520-7348-43ce-8958-617f26e470f0"
      },
      "execution_count": 12,
      "outputs": [
        {
          "output_type": "stream",
          "name": "stdout",
          "text": [
            "\n",
            "=== Bag of Words + NB ===\n",
            "Accuracy: 0.9497772828507796\n",
            "Precision: 0.9437345886572517\n",
            "Recall: 0.9546485260770975\n",
            "F1-score: 0.949160184872055\n",
            "\n",
            "=== TF-IDF + LR ===\n",
            "Accuracy: 0.9899777282850779\n",
            "Precision: 0.9886877828054299\n",
            "Recall: 0.9909297052154195\n",
            "F1-score: 0.9898074745186863\n",
            "\n",
            "=== Word2Vec + RF ===\n",
            "Accuracy: 0.9378619153674833\n",
            "Precision: 0.9405306495882891\n",
            "Recall: 0.9324263038548752\n",
            "F1-score: 0.9364609428376224\n",
            "\n",
            "=== GloVe + XGBoost ===\n",
            "Accuracy: 0.9662583518930957\n",
            "Precision: 0.9680875313426032\n",
            "Recall: 0.9630385487528345\n",
            "F1-score: 0.9655564396953507\n",
            "\n",
            "=== BERT ===\n",
            "Accuracy: 0.998\n",
            "Precision: 1.0\n",
            "Recall: 0.99581589958159\n",
            "F1-score: 0.9979035639412998\n"
          ]
        }
      ]
    },
    {
      "cell_type": "markdown",
      "source": [
        "10. Matriz de confusao"
      ],
      "metadata": {
        "id": "IaY2808-9dQB"
      }
    },
    {
      "cell_type": "code",
      "source": [
        "import matplotlib.pyplot as plt\n",
        "import seaborn as sns\n",
        "\n",
        "# Função para plotar a matriz de confusão\n",
        "def plot_confusion_matrix(y_true, y_pred, model_name):\n",
        "    cm = confusion_matrix(y_true, y_pred)\n",
        "    plt.figure(figsize=(6, 6))\n",
        "    sns.heatmap(cm, annot=True, fmt='d', cmap='Blues', cbar=False,\n",
        "                xticklabels=['Fake', 'True'],\n",
        "                yticklabels=['Fake', 'True'])\n",
        "    plt.xlabel('Predicted')\n",
        "    plt.ylabel('Actual')\n",
        "    plt.title(f'Matriz de Confusão - {model_name}')\n",
        "    plt.show()\n",
        "\n",
        "# Plotar as matrizes de confusão para cada modelo\n",
        "plot_confusion_matrix(y_test, y_pred_bow, 'BoW + NB')\n",
        "plot_confusion_matrix(y_test, y_pred_tfidf, 'TF-IDF + LR')\n",
        "plot_confusion_matrix(y_test, y_pred_w2v, 'Word2Vec + RF')\n",
        "plot_confusion_matrix(y_test, y_pred_glove, 'GloVe + XGB')\n",
        "plot_confusion_matrix(y_true_bert, y_pred_bert, 'BERT')"
      ],
      "metadata": {
        "id": "yLQeyG_I9gVJ",
        "colab": {
          "base_uri": "https://localhost:8080/",
          "height": 1000
        },
        "outputId": "d9be9c7c-1ace-4ff0-bbc5-88a2fbc7a462"
      },
      "execution_count": 13,
      "outputs": [
        {
          "output_type": "display_data",
          "data": {
            "text/plain": [
              "<Figure size 600x600 with 1 Axes>"
            ],
            "image/png": "[encoded data removed]"
          },
          "metadata": {}
        },
        {
          "output_type": "display_data",
          "data": {
            "text/plain": [
              "<Figure size 600x600 with 1 Axes>"
            ],
            "image/png": "[encoded data removed]"
          },
          "metadata": {}
        },
        {
          "output_type": "display_data",
          "data": {
            "text/plain": [
              "<Figure size 600x600 with 1 Axes>"
            ],
            "image/png": "[encoded data removed]"
          },
          "metadata": {}
        },
        {
          "output_type": "display_data",
          "data": {
            "text/plain": [
              "<Figure size 600x600 with 1 Axes>"
            ],
            "image/png": "[encoded data removed]"
          },
          "metadata": {}
        },
        {
          "output_type": "display_data",
          "data": {
            "text/plain": [
              "<Figure size 600x600 with 1 Axes>"
            ],
            "image/png": "[encoded data removed]"
          },
          "metadata": {}
        }
      ]
    },
    {
      "cell_type": "markdown",
      "source": [
        "11. Gerando gráficos"
      ],
      "metadata": {
        "id": "W6Q2X_Hi989t"
      }
    },
    {
      "cell_type": "code",
      "source": [
        "import matplotlib.pyplot as plt\n",
        "import seaborn as sns\n",
        "from sklearn.metrics import confusion_matrix\n",
        "\n",
        "# Função para plotar as métricas dos modelos\n",
        "def plot_metrics(models, metrics):\n",
        "    fig, ax = plt.subplots(figsize=(12, 6))\n",
        "    x = range(len(models))\n",
        "    width = 0.2\n",
        "\n",
        "    for i, (metric_name, metric_values) in enumerate(metrics.items()):\n",
        "        ax.bar([pos + width * i for pos in x], metric_values, width, label=metric_name)\n",
        "\n",
        "    ax.set_xticks([pos + width for pos in x])\n",
        "    ax.set_xticklabels(models)\n",
        "    ax.set_ylabel('Score')\n",
        "    ax.set_title('Performance dos Modelos')\n",
        "    ax.legend(loc='upper left', bbox_to_anchor=(1, 1))\n",
        "    plt.ylim(0, 1.1)\n",
        "    plt.show()\n",
        "\n",
        "# Dados dos modelos e métricas\n",
        "models = ['BoW + NB', 'TF-IDF + LR', 'Word2Vec + RF', 'GloVe + XGB', 'BERT']\n",
        "metrics = {\n",
        "    'Accuracy': [\n",
        "        accuracy_score(y_test, y_pred_bow),\n",
        "        accuracy_score(y_test, y_pred_tfidf),\n",
        "        accuracy_score(y_test, y_pred_w2v),\n",
        "        accuracy_score(y_test, y_pred_glove),\n",
        "        accuracy_score(y_true_bert, y_pred_bert)\n",
        "    ],\n",
        "    'Precision': [\n",
        "        precision_score(y_test, y_pred_bow),\n",
        "        precision_score(y_test, y_pred_tfidf),\n",
        "        precision_score(y_test, y_pred_w2v),\n",
        "        precision_score(y_test, y_pred_glove),\n",
        "        precision_score(y_true_bert, y_pred_bert)\n",
        "    ],\n",
        "    'Recall': [\n",
        "        recall_score(y_test, y_pred_bow),\n",
        "        recall_score(y_test, y_pred_tfidf),\n",
        "        recall_score(y_test, y_pred_w2v),\n",
        "        recall_score(y_test, y_pred_glove),\n",
        "        recall_score(y_true_bert, y_pred_bert)\n",
        "    ],\n",
        "    'F1-score': [\n",
        "        f1_score(y_test, y_pred_bow),\n",
        "        f1_score(y_test, y_pred_tfidf),\n",
        "        f1_score(y_test, y_pred_w2v),\n",
        "        f1_score(y_test, y_pred_glove),\n",
        "        f1_score(y_true_bert, y_pred_bert)\n",
        "    ]\n",
        "}\n",
        "\n",
        "# Plotar as métricas\n",
        "plot_metrics(models, metrics)"
      ],
      "metadata": {
        "id": "i7gh3iud-DEH",
        "colab": {
          "base_uri": "https://localhost:8080/",
          "height": 545
        },
        "outputId": "663e6224-3009-4604-840a-49062b22b6da"
      },
      "execution_count": 14,
      "outputs": [
        {
          "output_type": "display_data",
          "data": {
            "text/plain": [
              "<Figure size 1200x600 with 1 Axes>"
            ],
            "image/png": "[encoded data removed]"
          },
          "metadata": {}
        }
      ]
    },
    {
      "cell_type": "markdown",
      "source": [
        "12. Otimizando os hiperparametros com Optuna"
      ],
      "metadata": {
        "id": "k00U8qzU9wxp"
      }
    },
    {
      "cell_type": "code",
      "source": [
        "from sklearn.model_selection import cross_val_score\n",
        "\n",
        "def objective_lr(trial):\n",
        "    # Hiperparâmetros a serem otimizados\n",
        "    params = {\n",
        "        'C': trial.suggest_float('C', 0.1, 10.0, log=True),\n",
        "        'penalty': trial.suggest_categorical('penalty', ['l1', 'l2']),\n",
        "        'solver': trial.suggest_categorical('solver', ['liblinear', 'saga'])\n",
        "    }\n",
        "\n",
        "    # Modelo e avaliação com validação cruzada\n",
        "    model = LogisticRegression(**params, max_iter=100)\n",
        "    score = cross_val_score(model, X_train_tfidf, y_train, cv=3, scoring='f1').mean()\n",
        "    return score\n",
        "\n",
        "# Otimização\n",
        "study_lr = optuna.create_study(direction='maximize', pruner=optuna.pruners.MedianPruner())\n",
        "study_lr.optimize(objective_lr, n_trials=20, n_jobs=-1)\n",
        "\n",
        "# Melhores hiperparâmetros\n",
        "print(\"Melhores parâmetros para LR:\", study_lr.best_params)\n",
        "optuna.visualization.plot_optimization_history(study_lr)"
      ],
      "metadata": {
        "colab": {
          "base_uri": "https://localhost:8080/",
          "height": 219
        },
        "id": "RBxznWqGUZLt",
        "outputId": "aeec618c-da0c-4755-8056-b74b157c4935"
      },
      "execution_count": 1,
      "outputs": [
        {
          "output_type": "error",
          "ename": "NameError",
          "evalue": "name 'optuna' is not defined",
          "traceback": [
            "\u001b[0;31m---------------------------------------------------------------------------\u001b[0m",
            "\u001b[0;31mNameError\u001b[0m                                 Traceback (most recent call last)",
            "\u001b[0;32m<ipython-input-1-c3ea44e5a8f4>\u001b[0m in \u001b[0;36m<cell line: 0>\u001b[0;34m()\u001b[0m\n\u001b[1;32m     15\u001b[0m \u001b[0;34m\u001b[0m\u001b[0m\n\u001b[1;32m     16\u001b[0m \u001b[0;31m# Otimização\u001b[0m\u001b[0;34m\u001b[0m\u001b[0;34m\u001b[0m\u001b[0m\n\u001b[0;32m---> 17\u001b[0;31m \u001b[0mstudy_lr\u001b[0m \u001b[0;34m=\u001b[0m \u001b[0moptuna\u001b[0m\u001b[0;34m.\u001b[0m\u001b[0mcreate_study\u001b[0m\u001b[0;34m(\u001b[0m\u001b[0mdirection\u001b[0m\u001b[0;34m=\u001b[0m\u001b[0;34m'maximize'\u001b[0m\u001b[0;34m,\u001b[0m \u001b[0mpruner\u001b[0m\u001b[0;34m=\u001b[0m\u001b[0moptuna\u001b[0m\u001b[0;34m.\u001b[0m\u001b[0mpruners\u001b[0m\u001b[0;34m.\u001b[0m\u001b[0mMedianPruner\u001b[0m\u001b[0;34m(\u001b[0m\u001b[0;34m)\u001b[0m\u001b[0;34m)\u001b[0m\u001b[0;34m\u001b[0m\u001b[0;34m\u001b[0m\u001b[0m\n\u001b[0m\u001b[1;32m     18\u001b[0m \u001b[0mstudy_lr\u001b[0m\u001b[0;34m.\u001b[0m\u001b[0moptimize\u001b[0m\u001b[0;34m(\u001b[0m\u001b[0mobjective_lr\u001b[0m\u001b[0;34m,\u001b[0m \u001b[0mn_trials\u001b[0m\u001b[0;34m=\u001b[0m\u001b[0;36m20\u001b[0m\u001b[0;34m,\u001b[0m \u001b[0mn_jobs\u001b[0m\u001b[0;34m=\u001b[0m\u001b[0;34m-\u001b[0m\u001b[0;36m1\u001b[0m\u001b[0;34m)\u001b[0m\u001b[0;34m\u001b[0m\u001b[0;34m\u001b[0m\u001b[0m\n\u001b[1;32m     19\u001b[0m \u001b[0;34m\u001b[0m\u001b[0m\n",
            "\u001b[0;31mNameError\u001b[0m: name 'optuna' is not defined"
          ]
        }
      ]
    },
    {
      "cell_type": "markdown",
      "source": [
        "13. Otimizando o modelo TF-IDF com Regressao Logistica"
      ],
      "metadata": {
        "id": "WA26rtNtU9lR"
      }
    },
    {
      "cell_type": "code",
      "source": [
        "from sklearn.model_selection import cross_val_score\n",
        "def objective_lr(trial):\n",
        "    # Hiperparâmetros a serem otimizados\n",
        "    params = {\n",
        "        'C': trial.suggest_float('C', 0.1, 10.0, log=True),\n",
        "        'penalty': trial.suggest_categorical('penalty', ['l1', 'l2']),\n",
        "        'solver': trial.suggest_categorical('solver', ['liblinear', 'saga'])\n",
        "    }\n",
        "\n",
        "    # Modelo e avaliação com validação cruzada\n",
        "    model = LogisticRegression(**params, max_iter=1000)\n",
        "    score = cross_val_score(model, X_train_tfidf, y_train, cv=3, scoring='f1').mean()\n",
        "    return score\n",
        "\n",
        "# Otimização\n",
        "study_lr = optuna.create_study(direction='maximize', pruner=optuna.pruners.MedianPruner())\n",
        "study_lr.optimize(objective_lr, n_trials=20, n_jobs=-1)\n",
        "\n",
        "# Melhores hiperparâmetros\n",
        "print(\"Melhores parâmetros para LR:\", study_lr.best_params)\n",
        "optuna.visualization.plot_optimization_history(study_lr)"
      ],
      "metadata": {
        "id": "FI34yZrlVDsY"
      },
      "execution_count": null,
      "outputs": []
    },
    {
      "cell_type": "markdown",
      "source": [
        "14. Otimizando o modelo Random Forest + Word2Vec"
      ],
      "metadata": {
        "id": "f2GjNuvXVKW0"
      }
    },
    {
      "cell_type": "code",
      "source": [
        "def objective_rf(trial):\n",
        "    params = {\n",
        "        'n_estimators': trial.suggest_int('n_estimators', 50, 200),\n",
        "        'max_depth': trial.suggest_int('max_depth', 5, 30),\n",
        "        'min_samples_split': trial.suggest_int('min_samples_split', 2, 10)\n",
        "    }\n",
        "\n",
        "    model = RandomForestClassifier(**params)\n",
        "    score = cross_val_score(model, X_train_w2v, y_train, cv=3, scoring='f1').mean()\n",
        "    return score\n",
        "\n",
        "study_rf = optuna.create_study(direction='maximize', pruner=optuna.pruners.MedianPruner())\n",
        "study_rf.optimize(objective_rf, n_trials=20, n_jobs=-1)\n",
        "optuna.visualization.plot_optimization_history(study_lr)"
      ],
      "metadata": {
        "id": "rJkdTh6pVRnG"
      },
      "execution_count": null,
      "outputs": []
    },
    {
      "cell_type": "markdown",
      "source": [
        "15. Otimizando o modelo do XGBoost + GloVe"
      ],
      "metadata": {
        "id": "TubF1bEpVYCF"
      }
    },
    {
      "cell_type": "code",
      "source": [
        "def objective_xgb(trial):\n",
        "    params = {\n",
        "        'learning_rate': trial.suggest_float('learning_rate', 0.01, 0.3),\n",
        "        'max_depth': trial.suggest_int('max_depth', 3, 10),\n",
        "        'subsample': trial.suggest_float('subsample', 0.5, 1.0),\n",
        "        'n_estimators': trial.suggest_int('n_estimators', 50, 200)\n",
        "    }\n",
        "\n",
        "    model = XGBClassifier(**params, eval_metric='logloss')\n",
        "    score = cross_val_score(model, X_train_glove, y_train, cv=3, scoring='f1').mean()\n",
        "    return score\n",
        "\n",
        "study_xgb = optuna.create_study(direction='maximize', pruner=optuna.pruners.MedianPruner())\n",
        "study_xgb.optimize(objective_xgb, n_trials=20, n_jobs=-1)\n",
        "optuna.visualization.plot_optimization_history(study_lr)"
      ],
      "metadata": {
        "id": "M9iz5_8QVdvF"
      },
      "execution_count": null,
      "outputs": []
    },
    {
      "cell_type": "markdown",
      "source": [
        "16. Otimizando o modelo BERT + Fine-Tunning"
      ],
      "metadata": {
        "id": "skSIsST1VtJm"
      }
    },
    {
      "cell_type": "code",
      "source": [
        "def objective_bert(trial):\n",
        "    training_args = TrainingArguments(\n",
        "        output_dir=\"./results\",\n",
        "        learning_rate=trial.suggest_float('learning_rate', 1e-5, 5e-5, log=True),\n",
        "        per_device_train_batch_size=trial.suggest_categorical('batch_size', [8, 16]),\n",
        "        num_train_epochs=trial.suggest_int('num_epochs', 1, 3),\n",
        "        weight_decay=0.01,\n",
        "        evaluation_strategy=\"epoch\"\n",
        "    )\n",
        "\n",
        "    trainer = Trainer(\n",
        "        model=model,\n",
        "        args=training_args,\n",
        "        train_dataset=train_dataset,\n",
        "        eval_dataset=test_dataset\n",
        "    )\n",
        "\n",
        "    trainer.train()\n",
        "    results = trainer.evaluate()\n",
        "    return results['eval_loss']  # Minimizar a perda\n",
        "\n",
        "study_bert = optuna.create_study(direction='minimize', pruner=optuna.pruners.MedianPruner())\n",
        "study_bert.optimize(objective_bert, n_trials=5, n_jobs=-1)\n",
        "optuna.visualization.plot_optimization_history(study_lr)"
      ],
      "metadata": {
        "id": "sMnXVoKyVy3j"
      },
      "execution_count": null,
      "outputs": []
    }
  ]
}