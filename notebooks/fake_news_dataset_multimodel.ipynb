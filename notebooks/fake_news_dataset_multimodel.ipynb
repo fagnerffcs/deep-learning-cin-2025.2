{
  "cells": [
    {
      "cell_type": "markdown",
      "metadata": {
        "id": "mWnpmRWVumhd"
      },
      "source": [
        "Instalando pacotes"
      ]
    },
    {
      "cell_type": "code",
      "execution_count": null,
      "metadata": {
        "id": "YKrOmWIEutGN",
        "collapsed": true
      },
      "outputs": [],
      "source": [
        "# Remova versões conflitantes\n",
        "!pip uninstall -y torch torchvision torchaudio transformers peft sentence-transformers\n",
        "\n",
        "# Instale versões compatíveis\n",
        "!pip install torch==2.3.0 torchvision==0.18.0 torchaudio==2.3.0\n",
        "!pip install transformers==4.51.3  # Versão mais nova que inclui EncoderDecoderCache\n",
        "!pip install peft==0.15.2\n",
        "!pip install sentence-transformers==2.5.1\n",
        "!pip install optuna"
      ]
    },
    {
      "cell_type": "code",
      "execution_count": 2,
      "metadata": {
        "id": "u65aY4nXrvHo"
      },
      "outputs": [],
      "source": [
        "# 1. Imports\n",
        "import pandas as pd\n",
        "import numpy as np\n",
        "from sklearn.model_selection import train_test_split\n",
        "from sklearn.feature_extraction.text import CountVectorizer, TfidfVectorizer\n",
        "from sklearn.naive_bayes import MultinomialNB\n",
        "from sklearn.linear_model import LogisticRegression\n",
        "from sklearn.ensemble import RandomForestClassifier\n",
        "from xgboost import XGBClassifier\n",
        "from sklearn.metrics import accuracy_score, precision_score, recall_score, f1_score, confusion_matrix\n",
        "from transformers import BertTokenizer, BertForSequenceClassification, Trainer, TrainingArguments\n",
        "import torch\n",
        "from torch.utils.data import Dataset"
      ]
    },
    {
      "cell_type": "code",
      "execution_count": null,
      "metadata": {
        "id": "WPlYWE1fupwV"
      },
      "outputs": [],
      "source": []
    },
    {
      "cell_type": "markdown",
      "metadata": {
        "id": "QoJCP_OXr2R3"
      },
      "source": [
        "# 2. Load Dataset"
      ]
    },
    {
      "cell_type": "code",
      "execution_count": 10,
      "metadata": {
        "colab": {
          "base_uri": "https://localhost:8080/"
        },
        "id": "PAVVX3Y9z3A4",
        "outputId": "8cf4510e-8fee-46e2-f180-79bbc40358e7",
        "collapsed": true
      },
      "outputs": [
        {
          "output_type": "stream",
          "name": "stdout",
          "text": [
            "✅ Processado: /tmp/fake_news_data/Fake News Dataset/ISOT Fake News Dataset/train.csv | Registros: 36532 | Delimitador: ';'\n",
            "✅ Processado: /tmp/fake_news_data/Fake News Dataset/ISOT Fake News Dataset/test.csv | Registros: 8854 | Delimitador: ';'\n",
            "✅ Processado: /tmp/fake_news_data/Fake News Dataset/Fake News Dataset/train.csv | Registros: 16646 | Delimitador: ';'\n",
            "✅ Processado: /tmp/fake_news_data/Fake News Dataset/Fake News Dataset/test.csv | Registros: 4035 | Delimitador: ';'\n",
            "✅ Processado: /tmp/fake_news_data/Fake News Dataset/Fake or Real News Dataset/train.csv | Registros: 5072 | Delimitador: ';'\n",
            "✅ Processado: /tmp/fake_news_data/Fake News Dataset/Fake or Real News Dataset/test.csv | Registros: 1260 | Delimitador: ';'\n",
            "✅ Processado: /tmp/fake_news_data/Fake News Dataset/Fake News Detection Dataset/train.csv | Registros: 3340 | Delimitador: ';'\n",
            "✅ Processado: /tmp/fake_news_data/Fake News Dataset/Fake News Detection Dataset/test.csv | Registros: 798 | Delimitador: ';'\n",
            "\n",
            "==================================================\n",
            "✅ Dataset final combinado:\n",
            "   - Arquivos processados: 8\n",
            "   - Total de registros: 76537\n",
            "   - Distribuição de rótulos:\n",
            "       0 (Fake): 38434 registros\n",
            "       1 (Real): 38103 registros\n",
            "==================================================\n",
            "\n",
            "Primeiras 5 entradas:\n",
            "                                                text  label\n",
            "0  peru president cry coup signal vps would quit ...      1\n",
            "1  disabled veteran find freedom water arnaldo ro...      0\n",
            "2  judge rule video game publisher k game own rig...      1\n",
            "3  sweep bronx tackle decade gang chaos new york ...      1\n",
            "4  peace prize president obama approve billion ar...      0\n"
          ]
        }
      ],
      "source": [
        "import pandas as pd\n",
        "import os\n",
        "import zipfile\n",
        "from google.colab import files\n",
        "import re\n",
        "\n",
        "# 1. Configurar caminhos\n",
        "zip_path = 'Fake News Dataset.zip'\n",
        "extract_dir = '/tmp/fake_news_data'\n",
        "\n",
        "# 2. Extrair o arquivo ZIP\n",
        "with zipfile.ZipFile(zip_path, 'r') as zip_ref:\n",
        "    zip_ref.extractall(extract_dir)\n",
        "\n",
        "# 3. Função para detectar delimitador\n",
        "def detect_delimiter(file_path, sample_size=1024):\n",
        "    with open(file_path, 'r') as f:\n",
        "        sample = f.read(sample_size)\n",
        "\n",
        "    # Contar ocorrências de delimitadores comuns\n",
        "    delimiters = [',', ';', '\\t', '|']\n",
        "    counts = {delim: sample.count(delim) for delim in delimiters}\n",
        "\n",
        "    # Selecionar o delimitador mais frequente\n",
        "    best_delim = max(counts, key=counts.get)\n",
        "    return best_delim if counts[best_delim] > 0 else ','\n",
        "\n",
        "# 4. Processar todos os arquivos CSV\n",
        "all_dfs = []\n",
        "processed_files = []\n",
        "\n",
        "base_path = os.path.join(extract_dir, \"Fake News Dataset\")\n",
        "\n",
        "for root, dirs, files_in_dir in os.walk(base_path):\n",
        "    for file in files_in_dir:\n",
        "        if file.lower() in ['train.csv', 'test.csv']:\n",
        "            file_path = os.path.join(root, file)\n",
        "            try:\n",
        "                # Detectar delimitador\n",
        "                delimiter = detect_delimiter(file_path)\n",
        "\n",
        "                # Ler o arquivo CSV\n",
        "                df = pd.read_csv(file_path, delimiter=delimiter)\n",
        "\n",
        "                # Renomear colunas se necessário\n",
        "                if 'text;label' in df.columns:\n",
        "                    df[['text', 'label']] = df['text;label'].str.split(';', n=1, expand=True)\n",
        "                    df = df.drop(columns=['text;label'])\n",
        "\n",
        "                # Garantir que temos as colunas necessárias\n",
        "                if 'text' not in df.columns or 'label' not in df.columns:\n",
        "                    # Tentar encontrar colunas equivalentes\n",
        "                    text_col = next((col for col in df.columns if 'text' in col.lower()), None)\n",
        "                    label_col = next((col for col in df.columns if 'label' in col.lower()), None)\n",
        "\n",
        "                    if text_col and label_col:\n",
        "                        df = df.rename(columns={text_col: 'text', label_col: 'label'})\n",
        "                    else:\n",
        "                        # Tentativa de recuperação para formato de coluna única\n",
        "                        if len(df.columns) == 1:\n",
        "                            col_name = df.columns[0]\n",
        "                            if ';' in col_name:\n",
        "                                df = df[col_name].str.split(';', expand=True)\n",
        "                                if df.shape[1] >= 2:\n",
        "                                    df = df.rename(columns={0: 'text', 1: 'label'})\n",
        "\n",
        "                # Processar rótulos\n",
        "                if 'label' in df.columns:\n",
        "                    # Converter para string e limpar\n",
        "                    df['label'] = df['label'].astype(str).str.strip().str.lower()\n",
        "\n",
        "                    # Mapear valores\n",
        "                    label_mapping = {\n",
        "                        'real': 1, 'true': 1, 'verdadeiro': 1, '1': 1, '1.0': 1,\n",
        "                        'fake': 0, 'false': 0, 'falso': 0, '0': 0, '0.0': 0\n",
        "                    }\n",
        "\n",
        "                    df['label'] = df['label'].map(label_mapping).fillna(-1)\n",
        "\n",
        "                    # Filtrar rótulos válidos\n",
        "                    df = df[df['label'] != -1]\n",
        "\n",
        "                    # Remover linhas sem texto\n",
        "                    df = df.dropna(subset=['text'])\n",
        "                    df['text'] = df['text'].astype(str).str.strip()\n",
        "                    df = df[df['text'] != '']\n",
        "\n",
        "                    all_dfs.append(df)\n",
        "                    processed_files.append(file_path)\n",
        "                    print(f\"✅ Processado: {file_path} | Registros: {len(df)} | Delimitador: '{delimiter}'\")\n",
        "                else:\n",
        "                    print(f\"⚠️ Coluna 'label' não encontrada em: {file_path}\")\n",
        "\n",
        "            except Exception as e:\n",
        "                print(f\"🚨 Erro ao processar {file_path}: {str(e)}\")\n",
        "\n",
        "# 5. Combinar todos os datasets\n",
        "if not all_dfs:\n",
        "    raise ValueError(\"Nenhum dataset válido foi encontrado!\")\n",
        "\n",
        "data = pd.concat(all_dfs, ignore_index=True)\n",
        "data = data.sample(frac=1, random_state=42).reset_index(drop=True)\n",
        "\n",
        "# 6. Resultados finais\n",
        "print(\"\\n\" + \"=\"*50)\n",
        "print(f\"✅ Dataset final combinado:\")\n",
        "print(f\"   - Arquivos processados: {len(processed_files)}\")\n",
        "print(f\"   - Total de registros: {len(data)}\")\n",
        "print(f\"   - Distribuição de rótulos:\")\n",
        "label_counts = data['label'].value_counts()\n",
        "print(f\"       0 (Fake): {label_counts.get(0, 0)} registros\")\n",
        "print(f\"       1 (Real): {label_counts.get(1, 0)} registros\")\n",
        "print(\"=\"*50)\n",
        "\n",
        "# 7. Exemplo dos dados\n",
        "print(\"\\nPrimeiras 5 entradas:\")\n",
        "print(data.head())"
      ]
    },
    {
      "cell_type": "markdown",
      "metadata": {
        "id": "gK8WhsxlOpma"
      },
      "source": [
        "3. Data Cleaning"
      ]
    },
    {
      "cell_type": "code",
      "execution_count": 11,
      "metadata": {
        "colab": {
          "base_uri": "https://localhost:8080/"
        },
        "id": "k06zUuc9OrwL",
        "outputId": "f130fd61-608c-43b5-b8d5-555021d3de23"
      },
      "outputs": [
        {
          "output_type": "stream",
          "name": "stderr",
          "text": [
            "[nltk_data] Downloading package stopwords to /root/nltk_data...\n",
            "[nltk_data]   Package stopwords is already up-to-date!\n"
          ]
        }
      ],
      "source": [
        "#used for data cleaning\n",
        "import re\n",
        "import nltk\n",
        "from nltk.corpus import stopwords\n",
        "from sklearn.feature_extraction.text import TfidfVectorizer\n",
        "\n",
        "nltk.download('stopwords')\n",
        "stop_words = set(stopwords.words('english'))\n",
        "\n",
        "def clean_text(text):\n",
        "    text = re.sub(r'[^\\w\\s]', '', text)  #removes punctuation\n",
        "    text = re.sub(r'\\d+', '', text)  #removes numbers\n",
        "    text = text.lower()  #turns everything to lowercase\n",
        "    text = ' '.join([word for word in text.split() if word not in stop_words]) #gets rid of stop words\n",
        "    return text\n",
        "\n",
        "data['text'] = data['text'].apply(clean_text) #applies changes"
      ]
    },
    {
      "cell_type": "markdown",
      "metadata": {
        "id": "Z2jHlEQUrv6_"
      },
      "source": [
        "3. Preprocessing"
      ]
    },
    {
      "cell_type": "code",
      "execution_count": 12,
      "metadata": {
        "id": "OoOa28EWz-R_"
      },
      "outputs": [],
      "source": [
        "#some train test splitting, 20%\n",
        "X = data['text']\n",
        "y = data['label']\n",
        "X_train, X_test, y_train, y_test = train_test_split(X, y, test_size=0.2, random_state=142857)"
      ]
    },
    {
      "cell_type": "markdown",
      "metadata": {
        "id": "qMRvnHky0Adv"
      },
      "source": [
        "# 4. Bag of Words + Naive Bayes"
      ]
    },
    {
      "cell_type": "code",
      "execution_count": 13,
      "metadata": {
        "id": "5q8KDaoa0BX3"
      },
      "outputs": [],
      "source": [
        "bow = CountVectorizer(max_features=5000)\n",
        "X_train_bow = bow.fit_transform(X_train)\n",
        "X_test_bow = bow.transform(X_test)\n",
        "bow_model = MultinomialNB()\n",
        "bow_model.fit(X_train_bow, y_train)\n",
        "y_pred_bow = bow_model.predict(X_test_bow)"
      ]
    },
    {
      "cell_type": "markdown",
      "metadata": {
        "id": "mZoT9Drc0GPP"
      },
      "source": [
        "5. TF-IDF + Logistic Regression"
      ]
    },
    {
      "cell_type": "code",
      "execution_count": 14,
      "metadata": {
        "id": "uqdn0Hwl0Jmf"
      },
      "outputs": [],
      "source": [
        "tfidf = TfidfVectorizer(max_features=5000)\n",
        "X_train_tfidf = tfidf.fit_transform(X_train)\n",
        "X_test_tfidf = tfidf.transform(X_test)\n",
        "tfidf_model = LogisticRegression(max_iter=1000)\n",
        "tfidf_model.fit(X_train_tfidf, y_train)\n",
        "y_pred_tfidf = tfidf_model.predict(X_test_tfidf)"
      ]
    },
    {
      "cell_type": "code",
      "execution_count": 15,
      "metadata": {
        "colab": {
          "base_uri": "https://localhost:8080/"
        },
        "id": "ryyJG0ZeQwYt",
        "outputId": "271efb18-72df-40f2-c0cc-6b79d1363c85",
        "collapsed": true
      },
      "outputs": [
        {
          "output_type": "stream",
          "name": "stdout",
          "text": [
            "Collecting en-core-web-md==3.8.0\n",
            "  Downloading https://github.com/explosion/spacy-models/releases/download/en_core_web_md-3.8.0/en_core_web_md-3.8.0-py3-none-any.whl (33.5 MB)\n",
            "\u001b[2K     \u001b[90m━━━━━━━━━━━━━━━━━━━━━━━━━━━━━━━━━━━━━━━━\u001b[0m \u001b[32m33.5/33.5 MB\u001b[0m \u001b[31m21.5 MB/s\u001b[0m eta \u001b[36m0:00:00\u001b[0m\n",
            "\u001b[?25hInstalling collected packages: en-core-web-md\n",
            "Successfully installed en-core-web-md-3.8.0\n",
            "\u001b[38;5;2m✔ Download and installation successful\u001b[0m\n",
            "You can now load the package via spacy.load('en_core_web_md')\n",
            "\u001b[38;5;3m⚠ Restart to reload dependencies\u001b[0m\n",
            "If you are in a Jupyter or Colab notebook, you may need to restart Python in\n",
            "order to load all the package's dependencies. You can do this by selecting the\n",
            "'Restart kernel' or 'Restart runtime' option.\n"
          ]
        }
      ],
      "source": [
        "# Carrega o modelo com vetores pré-treinados (~100MB, mais leve que Word2Vec do Google)\n",
        "!python -m spacy download en_core_web_md"
      ]
    },
    {
      "cell_type": "markdown",
      "metadata": {
        "id": "7qgmwu2O0NiY"
      },
      "source": [
        "6. Word2Vec + Random Forest"
      ]
    },
    {
      "cell_type": "code",
      "execution_count": 16,
      "metadata": {
        "id": "aCH68lwh0RRX"
      },
      "outputs": [],
      "source": [
        "import spacy\n",
        "import numpy as np\n",
        "from sklearn.ensemble import RandomForestClassifier\n",
        "\n",
        "# Carrega o modelo com embeddings pré-treinados (~100MB)\n",
        "nlp = spacy.load(\"en_core_web_md\")\n",
        "\n",
        "# Função para vetorizar textos com spaCy\n",
        "def vectorize_spacy(texts):\n",
        "    vectors = []\n",
        "    for doc in nlp.pipe(texts, disable=[\"ner\", \"parser\"]):\n",
        "        vectors.append(doc.vector)\n",
        "    return np.array(vectors)\n",
        "\n",
        "# Vetorização dos conjuntos de treino e teste\n",
        "X_train_w2v = vectorize_spacy(X_train)\n",
        "X_test_w2v = vectorize_spacy(X_test)\n",
        "\n",
        "# Classificador com Random Forest\n",
        "w2v_model_clf = RandomForestClassifier()\n",
        "w2v_model_clf.fit(X_train_w2v, y_train)\n",
        "y_pred_w2v = w2v_model_clf.predict(X_test_w2v)"
      ]
    },
    {
      "cell_type": "markdown",
      "metadata": {
        "id": "VG7JbInm0SII"
      },
      "source": [
        "# 7. GloVe + XGBoost"
      ]
    },
    {
      "cell_type": "code",
      "execution_count": 17,
      "metadata": {
        "id": "U2yl0rmg0UuA"
      },
      "outputs": [],
      "source": [
        "# Simulando GloVe com Word2Vec para simplificar, mas pode-se usar GloVe real\n",
        "X_train_glove = X_train_w2v\n",
        "X_test_glove = X_test_w2v\n",
        "glove_model = XGBClassifier(eval_metric='logloss')\n",
        "glove_model.fit(X_train_glove, y_train)\n",
        "y_pred_glove = glove_model.predict(X_test_glove)"
      ]
    },
    {
      "cell_type": "markdown",
      "metadata": {
        "id": "M8SMUns20VVA"
      },
      "source": [
        "8. BERT + Fine Tuning"
      ]
    },
    {
      "cell_type": "code",
      "execution_count": 18,
      "metadata": {
        "colab": {
          "base_uri": "https://localhost:8080/",
          "height": 1000,
          "referenced_widgets": [
            "fa446b161d08421a9d95d19cb34f7426",
            "7cd5612d53a749d2b40148385c4cfe6c",
            "73d4f1313ba74c108df541736e9ac7cc",
            "3b07739754eb40908e4655d3678d111d",
            "2d0d5b5347b84b348b1f574e6a277d49",
            "c6dd570cfff640d9baba757c6b8d6047",
            "cb5ff0e3aad84f3ea7143264de1e4df7",
            "b0e3969bf2a948669aef6e8396f9bc24",
            "8dfb138014554c9e8116788c22d33592",
            "a6d2684ee99344d2a6c1cf9bde9abc6b",
            "c0d30496b1264d04b204802384f5ef2b",
            "58d63bc0d0ae489281613b6bed28b1b9",
            "36c5b13cce1c426aa8439c979b623401",
            "77f30a188dc148209c1bf820db8ab19a",
            "e71b9a81f78e4feba6eeb3e3a5bcf30a",
            "a4b81048a2894513ada4299fdeeaadb7",
            "3808e8c93aca4ef7a1b9167dd006c5b8",
            "9c1999cb8f5f46eab6f5414c05ba5840",
            "bc14757d65e94cb5a059f7302dfbfe14",
            "374154c16d81409bab804d1aa5b06862",
            "857ebac5162543a69ad15c11d2ac991d",
            "8fafc3de2b934f6abaa9736351e3570b",
            "469866158c3a4fc8bb9f2afef243a598",
            "22fd4ae0dd26402ab07efa4b45b27289",
            "7c875009b604495ab1f1b3d78e0d4038",
            "14e710eb4ae14cfbbd8b0e0b272073e2",
            "e6c829564ade47d096489e6c2c64e5f9",
            "3c10f5eaf8aa4733b661eeef89f0e4d2",
            "1f4fb22e150e45678ff8975adcc01478",
            "a16e135af0fb429e8da81f80bb52c872",
            "fb4d00515f444bd7a93c758b7eab6429",
            "44263ec9a183448cb7494926931a80ec",
            "0eab991b531048e5bbe13f0391b85f4f",
            "0c50220d320048aeb149ce027cc46abc",
            "50ca6412ee5a4edfb22676c11ab93412",
            "8e3ec075150e4a2ab86ea2368b86a0a5",
            "27fa63ea63ee479ba01e469077462c92",
            "b09bce0d63f14f36a8eecb19fa4553ac",
            "ceeed2359cbb42f0b92b26a6c91d9169",
            "45c41b6e78f04a3c9e5aa0686fd161ab",
            "8110c02a7f5e439e91297485a40051be",
            "5468a6a021634c78aa35d84e2c211644",
            "7c6ac31e4aae400bb55aa41b374a4de8",
            "090dce83d68a4c68a0f164abd69a79b4",
            "c75dad1e240243fa9f7df3d97bbc230b",
            "f4d9a46e6956497db4739979386edcb0",
            "cf01f00f5f4f48329ebaeb1d63a8d22a",
            "20f136b8a55e47ca92a4adf64363a851",
            "7a3827ba38c94f038d0dc4d751c66bed",
            "3c84171a0ba54aeaa15c0383517d9cc5",
            "20632eed8e4c4c2d9dfac12231739ab0",
            "4a6810bf68c84d1da3235cab998972ae",
            "ed1ea185c4834b7792914d61d401c260",
            "c7c3f6bdd1c343e8b982b08bc7587e8e",
            "15e7579ef30d43cc9cbb45d4aae3173b"
          ]
        },
        "id": "xVcufBzU0acg",
        "outputId": "1ea15407-e8cb-4140-a6d5-a3d06e5ffe7f",
        "collapsed": true
      },
      "outputs": [
        {
          "output_type": "stream",
          "name": "stderr",
          "text": [
            "/usr/local/lib/python3.11/dist-packages/huggingface_hub/utils/_auth.py:94: UserWarning: \n",
            "The secret `HF_TOKEN` does not exist in your Colab secrets.\n",
            "To authenticate with the Hugging Face Hub, create a token in your settings tab (https://huggingface.co/settings/tokens), set it as secret in your Google Colab and restart your session.\n",
            "You will be able to reuse this secret in all of your notebooks.\n",
            "Please note that authentication is recommended but still optional to access public models or datasets.\n",
            "  warnings.warn(\n"
          ]
        },
        {
          "output_type": "display_data",
          "data": {
            "text/plain": [
              "tokenizer_config.json:   0%|          | 0.00/48.0 [00:00<?, ?B/s]"
            ],
            "application/vnd.jupyter.widget-view+json": {
              "version_major": 2,
              "version_minor": 0,
              "model_id": "fa446b161d08421a9d95d19cb34f7426"
            }
          },
          "metadata": {}
        },
        {
          "output_type": "display_data",
          "data": {
            "text/plain": [
              "vocab.txt:   0%|          | 0.00/232k [00:00<?, ?B/s]"
            ],
            "application/vnd.jupyter.widget-view+json": {
              "version_major": 2,
              "version_minor": 0,
              "model_id": "58d63bc0d0ae489281613b6bed28b1b9"
            }
          },
          "metadata": {}
        },
        {
          "output_type": "display_data",
          "data": {
            "text/plain": [
              "tokenizer.json:   0%|          | 0.00/466k [00:00<?, ?B/s]"
            ],
            "application/vnd.jupyter.widget-view+json": {
              "version_major": 2,
              "version_minor": 0,
              "model_id": "469866158c3a4fc8bb9f2afef243a598"
            }
          },
          "metadata": {}
        },
        {
          "output_type": "display_data",
          "data": {
            "text/plain": [
              "config.json:   0%|          | 0.00/570 [00:00<?, ?B/s]"
            ],
            "application/vnd.jupyter.widget-view+json": {
              "version_major": 2,
              "version_minor": 0,
              "model_id": "0c50220d320048aeb149ce027cc46abc"
            }
          },
          "metadata": {}
        },
        {
          "output_type": "display_data",
          "data": {
            "text/plain": [
              "model.safetensors:   0%|          | 0.00/440M [00:00<?, ?B/s]"
            ],
            "application/vnd.jupyter.widget-view+json": {
              "version_major": 2,
              "version_minor": 0,
              "model_id": "c75dad1e240243fa9f7df3d97bbc230b"
            }
          },
          "metadata": {}
        },
        {
          "output_type": "stream",
          "name": "stderr",
          "text": [
            "Some weights of BertForSequenceClassification were not initialized from the model checkpoint at bert-base-uncased and are newly initialized: ['classifier.bias', 'classifier.weight']\n",
            "You should probably TRAIN this model on a down-stream task to be able to use it for predictions and inference.\n",
            "\u001b[34m\u001b[1mwandb\u001b[0m: \u001b[33mWARNING\u001b[0m The `run_name` is currently set to the same value as `TrainingArguments.output_dir`. If this was not intended, please specify a different run name by setting the `TrainingArguments.run_name` parameter.\n"
          ]
        },
        {
          "output_type": "display_data",
          "data": {
            "text/plain": [
              "<IPython.core.display.Javascript object>"
            ],
            "application/javascript": [
              "\n",
              "        window._wandbApiKey = new Promise((resolve, reject) => {\n",
              "            function loadScript(url) {\n",
              "            return new Promise(function(resolve, reject) {\n",
              "                let newScript = document.createElement(\"script\");\n",
              "                newScript.onerror = reject;\n",
              "                newScript.onload = resolve;\n",
              "                document.body.appendChild(newScript);\n",
              "                newScript.src = url;\n",
              "            });\n",
              "            }\n",
              "            loadScript(\"https://cdn.jsdelivr.net/npm/postmate/build/postmate.min.js\").then(() => {\n",
              "            const iframe = document.createElement('iframe')\n",
              "            iframe.style.cssText = \"width:0;height:0;border:none\"\n",
              "            document.body.appendChild(iframe)\n",
              "            const handshake = new Postmate({\n",
              "                container: iframe,\n",
              "                url: 'https://wandb.ai/authorize'\n",
              "            });\n",
              "            const timeout = setTimeout(() => reject(\"Couldn't auto authenticate\"), 5000)\n",
              "            handshake.then(function(child) {\n",
              "                child.on('authorize', data => {\n",
              "                    clearTimeout(timeout)\n",
              "                    resolve(data)\n",
              "                });\n",
              "            });\n",
              "            })\n",
              "        });\n",
              "    "
            ]
          },
          "metadata": {}
        },
        {
          "output_type": "stream",
          "name": "stderr",
          "text": [
            "\u001b[34m\u001b[1mwandb\u001b[0m: Logging into wandb.ai. (Learn how to deploy a W&B server locally: https://wandb.me/wandb-server)\n",
            "\u001b[34m\u001b[1mwandb\u001b[0m: You can find your API key in your browser here: https://wandb.ai/authorize?ref=models\n",
            "wandb: Paste an API key from your profile and hit enter:"
          ]
        },
        {
          "name": "stdout",
          "output_type": "stream",
          "text": [
            " ··········\n"
          ]
        },
        {
          "output_type": "stream",
          "name": "stderr",
          "text": [
            "\u001b[34m\u001b[1mwandb\u001b[0m: \u001b[33mWARNING\u001b[0m If you're specifying your api key in code, ensure this code is not shared publicly.\n",
            "\u001b[34m\u001b[1mwandb\u001b[0m: \u001b[33mWARNING\u001b[0m Consider setting the WANDB_API_KEY environment variable, or running `wandb login` from the command line.\n",
            "\u001b[34m\u001b[1mwandb\u001b[0m: No netrc file found, creating one.\n",
            "\u001b[34m\u001b[1mwandb\u001b[0m: Appending key for api.wandb.ai to your netrc file: /root/.netrc\n",
            "\u001b[34m\u001b[1mwandb\u001b[0m: Currently logged in as: \u001b[33mffcs\u001b[0m (\u001b[33mffcs-cin-ufpe\u001b[0m) to \u001b[32mhttps://api.wandb.ai\u001b[0m. Use \u001b[1m`wandb login --relogin`\u001b[0m to force relogin\n"
          ]
        },
        {
          "output_type": "display_data",
          "data": {
            "text/plain": [
              "<IPython.core.display.HTML object>"
            ],
            "text/html": [
              "Tracking run with wandb version 0.19.11"
            ]
          },
          "metadata": {}
        },
        {
          "output_type": "display_data",
          "data": {
            "text/plain": [
              "<IPython.core.display.HTML object>"
            ],
            "text/html": [
              "Run data is saved locally in <code>/content/wandb/run-20250613_211202-ucyzu9qw</code>"
            ]
          },
          "metadata": {}
        },
        {
          "output_type": "display_data",
          "data": {
            "text/plain": [
              "<IPython.core.display.HTML object>"
            ],
            "text/html": [
              "Syncing run <strong><a href='https://wandb.ai/ffcs-cin-ufpe/huggingface/runs/ucyzu9qw' target=\"_blank\">./results</a></strong> to <a href='https://wandb.ai/ffcs-cin-ufpe/huggingface' target=\"_blank\">Weights & Biases</a> (<a href='https://wandb.me/developer-guide' target=\"_blank\">docs</a>)<br>"
            ]
          },
          "metadata": {}
        },
        {
          "output_type": "display_data",
          "data": {
            "text/plain": [
              "<IPython.core.display.HTML object>"
            ],
            "text/html": [
              " View project at <a href='https://wandb.ai/ffcs-cin-ufpe/huggingface' target=\"_blank\">https://wandb.ai/ffcs-cin-ufpe/huggingface</a>"
            ]
          },
          "metadata": {}
        },
        {
          "output_type": "display_data",
          "data": {
            "text/plain": [
              "<IPython.core.display.HTML object>"
            ],
            "text/html": [
              " View run at <a href='https://wandb.ai/ffcs-cin-ufpe/huggingface/runs/ucyzu9qw' target=\"_blank\">https://wandb.ai/ffcs-cin-ufpe/huggingface/runs/ucyzu9qw</a>"
            ]
          },
          "metadata": {}
        },
        {
          "output_type": "display_data",
          "data": {
            "text/plain": [
              "<IPython.core.display.HTML object>"
            ],
            "text/html": [
              "\n",
              "    <div>\n",
              "      \n",
              "      <progress value='500' max='500' style='width:300px; height:20px; vertical-align: middle;'></progress>\n",
              "      [500/500 06:20, Epoch 2/2]\n",
              "    </div>\n",
              "    <table border=\"1\" class=\"dataframe\">\n",
              "  <thead>\n",
              " <tr style=\"text-align: left;\">\n",
              "      <th>Step</th>\n",
              "      <th>Training Loss</th>\n",
              "    </tr>\n",
              "  </thead>\n",
              "  <tbody>\n",
              "    <tr>\n",
              "      <td>10</td>\n",
              "      <td>0.704100</td>\n",
              "    </tr>\n",
              "    <tr>\n",
              "      <td>20</td>\n",
              "      <td>0.670000</td>\n",
              "    </tr>\n",
              "    <tr>\n",
              "      <td>30</td>\n",
              "      <td>0.595500</td>\n",
              "    </tr>\n",
              "    <tr>\n",
              "      <td>40</td>\n",
              "      <td>0.471600</td>\n",
              "    </tr>\n",
              "    <tr>\n",
              "      <td>50</td>\n",
              "      <td>0.608400</td>\n",
              "    </tr>\n",
              "    <tr>\n",
              "      <td>60</td>\n",
              "      <td>0.396400</td>\n",
              "    </tr>\n",
              "    <tr>\n",
              "      <td>70</td>\n",
              "      <td>0.463900</td>\n",
              "    </tr>\n",
              "    <tr>\n",
              "      <td>80</td>\n",
              "      <td>0.468800</td>\n",
              "    </tr>\n",
              "    <tr>\n",
              "      <td>90</td>\n",
              "      <td>0.437500</td>\n",
              "    </tr>\n",
              "    <tr>\n",
              "      <td>100</td>\n",
              "      <td>0.371300</td>\n",
              "    </tr>\n",
              "    <tr>\n",
              "      <td>110</td>\n",
              "      <td>0.318500</td>\n",
              "    </tr>\n",
              "    <tr>\n",
              "      <td>120</td>\n",
              "      <td>0.372600</td>\n",
              "    </tr>\n",
              "    <tr>\n",
              "      <td>130</td>\n",
              "      <td>0.341300</td>\n",
              "    </tr>\n",
              "    <tr>\n",
              "      <td>140</td>\n",
              "      <td>0.327800</td>\n",
              "    </tr>\n",
              "    <tr>\n",
              "      <td>150</td>\n",
              "      <td>0.307400</td>\n",
              "    </tr>\n",
              "    <tr>\n",
              "      <td>160</td>\n",
              "      <td>0.307500</td>\n",
              "    </tr>\n",
              "    <tr>\n",
              "      <td>170</td>\n",
              "      <td>0.148500</td>\n",
              "    </tr>\n",
              "    <tr>\n",
              "      <td>180</td>\n",
              "      <td>0.250100</td>\n",
              "    </tr>\n",
              "    <tr>\n",
              "      <td>190</td>\n",
              "      <td>0.399900</td>\n",
              "    </tr>\n",
              "    <tr>\n",
              "      <td>200</td>\n",
              "      <td>0.325900</td>\n",
              "    </tr>\n",
              "    <tr>\n",
              "      <td>210</td>\n",
              "      <td>0.355700</td>\n",
              "    </tr>\n",
              "    <tr>\n",
              "      <td>220</td>\n",
              "      <td>0.421900</td>\n",
              "    </tr>\n",
              "    <tr>\n",
              "      <td>230</td>\n",
              "      <td>0.226200</td>\n",
              "    </tr>\n",
              "    <tr>\n",
              "      <td>240</td>\n",
              "      <td>0.207300</td>\n",
              "    </tr>\n",
              "    <tr>\n",
              "      <td>250</td>\n",
              "      <td>0.252300</td>\n",
              "    </tr>\n",
              "    <tr>\n",
              "      <td>260</td>\n",
              "      <td>0.332600</td>\n",
              "    </tr>\n",
              "    <tr>\n",
              "      <td>270</td>\n",
              "      <td>0.259800</td>\n",
              "    </tr>\n",
              "    <tr>\n",
              "      <td>280</td>\n",
              "      <td>0.203300</td>\n",
              "    </tr>\n",
              "    <tr>\n",
              "      <td>290</td>\n",
              "      <td>0.065400</td>\n",
              "    </tr>\n",
              "    <tr>\n",
              "      <td>300</td>\n",
              "      <td>0.104100</td>\n",
              "    </tr>\n",
              "    <tr>\n",
              "      <td>310</td>\n",
              "      <td>0.237200</td>\n",
              "    </tr>\n",
              "    <tr>\n",
              "      <td>320</td>\n",
              "      <td>0.219100</td>\n",
              "    </tr>\n",
              "    <tr>\n",
              "      <td>330</td>\n",
              "      <td>0.189300</td>\n",
              "    </tr>\n",
              "    <tr>\n",
              "      <td>340</td>\n",
              "      <td>0.167100</td>\n",
              "    </tr>\n",
              "    <tr>\n",
              "      <td>350</td>\n",
              "      <td>0.178100</td>\n",
              "    </tr>\n",
              "    <tr>\n",
              "      <td>360</td>\n",
              "      <td>0.040000</td>\n",
              "    </tr>\n",
              "    <tr>\n",
              "      <td>370</td>\n",
              "      <td>0.199000</td>\n",
              "    </tr>\n",
              "    <tr>\n",
              "      <td>380</td>\n",
              "      <td>0.201000</td>\n",
              "    </tr>\n",
              "    <tr>\n",
              "      <td>390</td>\n",
              "      <td>0.046800</td>\n",
              "    </tr>\n",
              "    <tr>\n",
              "      <td>400</td>\n",
              "      <td>0.082700</td>\n",
              "    </tr>\n",
              "    <tr>\n",
              "      <td>410</td>\n",
              "      <td>0.077100</td>\n",
              "    </tr>\n",
              "    <tr>\n",
              "      <td>420</td>\n",
              "      <td>0.246300</td>\n",
              "    </tr>\n",
              "    <tr>\n",
              "      <td>430</td>\n",
              "      <td>0.068700</td>\n",
              "    </tr>\n",
              "    <tr>\n",
              "      <td>440</td>\n",
              "      <td>0.241200</td>\n",
              "    </tr>\n",
              "    <tr>\n",
              "      <td>450</td>\n",
              "      <td>0.046800</td>\n",
              "    </tr>\n",
              "    <tr>\n",
              "      <td>460</td>\n",
              "      <td>0.419900</td>\n",
              "    </tr>\n",
              "    <tr>\n",
              "      <td>470</td>\n",
              "      <td>0.138100</td>\n",
              "    </tr>\n",
              "    <tr>\n",
              "      <td>480</td>\n",
              "      <td>0.101000</td>\n",
              "    </tr>\n",
              "    <tr>\n",
              "      <td>490</td>\n",
              "      <td>0.389700</td>\n",
              "    </tr>\n",
              "    <tr>\n",
              "      <td>500</td>\n",
              "      <td>0.019100</td>\n",
              "    </tr>\n",
              "  </tbody>\n",
              "</table><p>"
            ]
          },
          "metadata": {}
        },
        {
          "output_type": "display_data",
          "data": {
            "text/plain": [
              "<IPython.core.display.HTML object>"
            ],
            "text/html": []
          },
          "metadata": {}
        }
      ],
      "source": [
        "class FakeNewsDataset(Dataset):\n",
        "    def __init__(self, texts, labels, tokenizer, max_len=512):\n",
        "        self.encodings = tokenizer(list(texts), truncation=True, padding=True, max_length=max_len)\n",
        "        self.labels = list(labels)\n",
        "\n",
        "    def __len__(self):\n",
        "        return len(self.labels)\n",
        "\n",
        "    def __getitem__(self, idx):\n",
        "        item = {key: torch.tensor(val[idx]) for key, val in self.encodings.items()}\n",
        "        item['labels'] = torch.tensor(self.labels[idx])\n",
        "        return item\n",
        "\n",
        "tokenizer = BertTokenizer.from_pretrained(\"bert-base-uncased\")\n",
        "model = BertForSequenceClassification.from_pretrained(\"bert-base-uncased\", num_labels=2)\n",
        "train_dataset = FakeNewsDataset(X_train[:2000], y_train[:2000], tokenizer)\n",
        "test_dataset = FakeNewsDataset(X_test[:500], y_test[:500], tokenizer)\n",
        "\n",
        "training_args = TrainingArguments(output_dir=\"./results\", per_device_train_batch_size=8, per_device_eval_batch_size=8, num_train_epochs=2, logging_dir=\"./logs\", logging_steps=10)\n",
        "\n",
        "trainer = Trainer(model=model, args=training_args, train_dataset=train_dataset, eval_dataset=test_dataset)\n",
        "trainer.train()\n",
        "preds = trainer.predict(test_dataset)\n",
        "y_pred_bert = np.argmax(preds.predictions, axis=1)\n",
        "y_true_bert = y_test[:500].values"
      ]
    },
    {
      "cell_type": "markdown",
      "metadata": {
        "id": "rcf5UvSa0by4"
      },
      "source": [
        "# 9. Evaluation Results"
      ]
    },
    {
      "cell_type": "code",
      "execution_count": 19,
      "metadata": {
        "colab": {
          "base_uri": "https://localhost:8080/"
        },
        "id": "khFMjdmV0eKx",
        "outputId": "a4ddea37-428f-4021-d5b3-3904b9b7770e",
        "collapsed": true
      },
      "outputs": [
        {
          "output_type": "stream",
          "name": "stdout",
          "text": [
            "\n",
            "=== Bag of Words + NB ===\n",
            "Accuracy: 0.8684348053305461\n",
            "Precision: 0.8745476477683957\n",
            "Recall: 0.858213862948836\n",
            "F1-score: 0.8663037705788635\n",
            "\n",
            "=== TF-IDF + LR ===\n",
            "Accuracy: 0.9421870917167494\n",
            "Precision: 0.9466755319148936\n",
            "Recall: 0.936340918058661\n",
            "F1-score: 0.9414798651061297\n",
            "\n",
            "=== Word2Vec + RF ===\n",
            "Accuracy: 0.8812385680689835\n",
            "Precision: 0.8955285108710516\n",
            "Recall: 0.861370511640142\n",
            "F1-score: 0.8781174577634755\n",
            "\n",
            "=== GloVe + XGBoost ===\n",
            "Accuracy: 0.9040371047818134\n",
            "Precision: 0.912009672219237\n",
            "Recall: 0.8929369985532026\n",
            "F1-score: 0.902372565959992\n",
            "\n",
            "=== BERT ===\n",
            "Accuracy: 0.926\n",
            "Precision: 0.9385245901639344\n",
            "Recall: 0.9123505976095617\n",
            "F1-score: 0.9252525252525252\n"
          ]
        }
      ],
      "source": [
        "from sklearn.model_selection import cross_val_score\n",
        "\n",
        "def evaluate(name, y_true, y_pred):\n",
        "    print(f\"\\n=== {name} ===\")\n",
        "    print(\"Accuracy:\", accuracy_score(y_true, y_pred))\n",
        "    print(\"Precision:\", precision_score(y_true, y_pred))\n",
        "    print(\"Recall:\", recall_score(y_true, y_pred))\n",
        "    print(\"F1-score:\", f1_score(y_true, y_pred))\n",
        "\n",
        "evaluate(\"Bag of Words + NB\", y_test, y_pred_bow)\n",
        "evaluate(\"TF-IDF + LR\", y_test, y_pred_tfidf)\n",
        "evaluate(\"Word2Vec + RF\", y_test, y_pred_w2v)\n",
        "evaluate(\"GloVe + XGBoost\", y_test, y_pred_glove)\n",
        "evaluate(\"BERT\", y_true_bert, y_pred_bert)"
      ]
    },
    {
      "cell_type": "markdown",
      "metadata": {
        "id": "IaY2808-9dQB"
      },
      "source": [
        "10. Matriz de confusao"
      ]
    },
    {
      "cell_type": "code",
      "execution_count": 20,
      "metadata": {
        "id": "yLQeyG_I9gVJ",
        "colab": {
          "base_uri": "https://localhost:8080/",
          "height": 1000
        },
        "outputId": "57af9e19-0fc2-4cbe-977a-2262451f0c00"
      },
      "outputs": [
        {
          "output_type": "display_data",
          "data": {
            "text/plain": [
              "<Figure size 600x600 with 1 Axes>"
            ],
            "image/png": "[encoded data removed]"
          },
          "metadata": {}
        },
        {
          "output_type": "display_data",
          "data": {
            "text/plain": [
              "<Figure size 600x600 with 1 Axes>"
            ],
            "image/png": "[encoded data removed]"
          },
          "metadata": {}
        },
        {
          "output_type": "display_data",
          "data": {
            "text/plain": [
              "<Figure size 600x600 with 1 Axes>"
            ],
            "image/png": "[encoded data removed]"
          },
          "metadata": {}
        },
        {
          "output_type": "display_data",
          "data": {
            "text/plain": [
              "<Figure size 600x600 with 1 Axes>"
            ],
            "image/png": "[encoded data removed]"
          },
          "metadata": {}
        },
        {
          "output_type": "display_data",
          "data": {
            "text/plain": [
              "<Figure size 600x600 with 1 Axes>"
            ],
            "image/png": "[encoded data removed]"
          },
          "metadata": {}
        }
      ],
      "source": [
        "import matplotlib.pyplot as plt\n",
        "import seaborn as sns\n",
        "\n",
        "# Função para plotar a matriz de confusão\n",
        "def plot_confusion_matrix(y_true, y_pred, model_name):\n",
        "    cm = confusion_matrix(y_true, y_pred)\n",
        "    plt.figure(figsize=(6, 6))\n",
        "    sns.heatmap(cm, annot=True, fmt='d', cmap='Blues', cbar=False,\n",
        "                xticklabels=['Fake', 'True'],\n",
        "                yticklabels=['Fake', 'True'])\n",
        "    plt.xlabel('Predicted')\n",
        "    plt.ylabel('Actual')\n",
        "    plt.title(f'Matriz de Confusão - {model_name}')\n",
        "    plt.show()\n",
        "\n",
        "# Plotar as matrizes de confusão para cada modelo\n",
        "plot_confusion_matrix(y_test, y_pred_bow, 'BoW + NB')\n",
        "plot_confusion_matrix(y_test, y_pred_tfidf, 'TF-IDF + LR')\n",
        "plot_confusion_matrix(y_test, y_pred_w2v, 'Word2Vec + RF')\n",
        "plot_confusion_matrix(y_test, y_pred_glove, 'GloVe + XGB')\n",
        "plot_confusion_matrix(y_true_bert, y_pred_bert, 'BERT')"
      ]
    },
    {
      "cell_type": "markdown",
      "metadata": {
        "id": "W6Q2X_Hi989t"
      },
      "source": [
        "11. Gerando gráficos"
      ]
    },
    {
      "cell_type": "code",
      "execution_count": 21,
      "metadata": {
        "colab": {
          "base_uri": "https://localhost:8080/",
          "height": 545
        },
        "id": "i7gh3iud-DEH",
        "outputId": "590f755f-0cb2-42fe-9cf9-bce29b84276e",
        "collapsed": true
      },
      "outputs": [
        {
          "output_type": "display_data",
          "data": {
            "text/plain": [
              "<Figure size 1200x600 with 1 Axes>"
            ],
            "image/png": "[encoded data removed]"
          },
          "metadata": {}
        }
      ],
      "source": [
        "import matplotlib.pyplot as plt\n",
        "import seaborn as sns\n",
        "from sklearn.metrics import confusion_matrix\n",
        "\n",
        "# Função para plotar as métricas dos modelos\n",
        "def plot_metrics(models, metrics):\n",
        "    fig, ax = plt.subplots(figsize=(12, 6))\n",
        "    x = range(len(models))\n",
        "    width = 0.2\n",
        "\n",
        "    for i, (metric_name, metric_values) in enumerate(metrics.items()):\n",
        "        ax.bar([pos + width * i for pos in x], metric_values, width, label=metric_name)\n",
        "\n",
        "    ax.set_xticks([pos + width for pos in x])\n",
        "    ax.set_xticklabels(models)\n",
        "    ax.set_ylabel('Score')\n",
        "    ax.set_title('Performance dos Modelos')\n",
        "    ax.legend(loc='upper left', bbox_to_anchor=(1, 1))\n",
        "    plt.ylim(0, 1.1)\n",
        "    plt.show()\n",
        "\n",
        "# Dados dos modelos e métricas\n",
        "models = ['BoW + NB', 'TF-IDF + LR', 'Word2Vec + RF', 'GloVe + XGB', 'BERT']\n",
        "metrics = {\n",
        "    'Accuracy': [\n",
        "        accuracy_score(y_test, y_pred_bow),\n",
        "        accuracy_score(y_test, y_pred_tfidf),\n",
        "        accuracy_score(y_test, y_pred_w2v),\n",
        "        accuracy_score(y_test, y_pred_glove),\n",
        "        accuracy_score(y_true_bert, y_pred_bert)\n",
        "    ],\n",
        "    'Precision': [\n",
        "        precision_score(y_test, y_pred_bow),\n",
        "        precision_score(y_test, y_pred_tfidf),\n",
        "        precision_score(y_test, y_pred_w2v),\n",
        "        precision_score(y_test, y_pred_glove),\n",
        "        precision_score(y_true_bert, y_pred_bert)\n",
        "    ],\n",
        "    'Recall': [\n",
        "        recall_score(y_test, y_pred_bow),\n",
        "        recall_score(y_test, y_pred_tfidf),\n",
        "        recall_score(y_test, y_pred_w2v),\n",
        "        recall_score(y_test, y_pred_glove),\n",
        "        recall_score(y_true_bert, y_pred_bert)\n",
        "    ],\n",
        "    'F1-score': [\n",
        "        f1_score(y_test, y_pred_bow),\n",
        "        f1_score(y_test, y_pred_tfidf),\n",
        "        f1_score(y_test, y_pred_w2v),\n",
        "        f1_score(y_test, y_pred_glove),\n",
        "        f1_score(y_true_bert, y_pred_bert)\n",
        "    ]\n",
        "}\n",
        "\n",
        "# Plotar as métricas\n",
        "plot_metrics(models, metrics)"
      ]
    },
    {
      "cell_type": "markdown",
      "metadata": {
        "id": "k00U8qzU9wxp"
      },
      "source": [
        "12. Otimizando os hiperparametros com Optuna para BoW + Naive Bayes"
      ]
    },
    {
      "cell_type": "code",
      "execution_count": 24,
      "metadata": {
        "colab": {
          "base_uri": "https://localhost:8080/",
          "height": 924
        },
        "id": "RBxznWqGUZLt",
        "outputId": "409054f7-fe29-43af-fe9c-82b8c8b3ed32",
        "collapsed": true
      },
      "outputs": [
        {
          "output_type": "stream",
          "name": "stderr",
          "text": [
            "[I 2025-06-13 21:27:17,894] A new study created in memory with name: no-name-0458a4a4-63dc-41c3-9044-79a0406f2e68\n",
            "[I 2025-06-13 21:27:18,447] Trial 1 finished with value: 0.8635079031573234 and parameters: {'alpha': 1.6085206352847603, 'fit_prior': True}. Best is trial 1 with value: 0.8635079031573234.\n",
            "[I 2025-06-13 21:27:18,496] Trial 0 finished with value: 0.8635214681535853 and parameters: {'alpha': 1.3712638699947737, 'fit_prior': False}. Best is trial 0 with value: 0.8635214681535853.\n",
            "[I 2025-06-13 21:27:18,888] Trial 2 finished with value: 0.8637155993916007 and parameters: {'alpha': 0.04433103745710283, 'fit_prior': True}. Best is trial 2 with value: 0.8637155993916007.\n",
            "[I 2025-06-13 21:27:18,915] Trial 3 finished with value: 0.8632771048099696 and parameters: {'alpha': 5.6399748037116915, 'fit_prior': False}. Best is trial 2 with value: 0.8637155993916007.\n",
            "[I 2025-06-13 21:27:19,284] Trial 4 finished with value: 0.8634113928350747 and parameters: {'alpha': 4.351795462632085, 'fit_prior': False}. Best is trial 2 with value: 0.8637155993916007.\n",
            "[I 2025-06-13 21:27:19,311] Trial 5 finished with value: 0.8638016170365956 and parameters: {'alpha': 0.010731890214838275, 'fit_prior': True}. Best is trial 5 with value: 0.8638016170365956.\n",
            "[I 2025-06-13 21:27:19,665] Trial 6 finished with value: 0.8637812981048122 and parameters: {'alpha': 0.019769467301407245, 'fit_prior': False}. Best is trial 5 with value: 0.8638016170365956.\n",
            "[I 2025-06-13 21:27:19,699] Trial 7 finished with value: 0.8636153161117318 and parameters: {'alpha': 0.13783833555073297, 'fit_prior': True}. Best is trial 5 with value: 0.8638016170365956.\n",
            "[I 2025-06-13 21:27:20,041] Trial 8 finished with value: 0.863560684646365 and parameters: {'alpha': 1.0590797474147873, 'fit_prior': True}. Best is trial 5 with value: 0.8638016170365956.\n",
            "[I 2025-06-13 21:27:20,096] Trial 9 finished with value: 0.8637956397834502 and parameters: {'alpha': 0.010207666083943735, 'fit_prior': False}. Best is trial 5 with value: 0.8638016170365956.\n",
            "[I 2025-06-13 21:27:20,432] Trial 10 finished with value: 0.8633110554143312 and parameters: {'alpha': 5.5012336411164515, 'fit_prior': True}. Best is trial 5 with value: 0.8638016170365956.\n",
            "[I 2025-06-13 21:27:20,487] Trial 11 finished with value: 0.8636153161117318 and parameters: {'alpha': 0.15198423758559765, 'fit_prior': True}. Best is trial 5 with value: 0.8638016170365956.\n",
            "[I 2025-06-13 21:27:20,877] Trial 12 finished with value: 0.8637956397834502 and parameters: {'alpha': 0.01334773988864656, 'fit_prior': False}. Best is trial 5 with value: 0.8638016170365956.\n",
            "[I 2025-06-13 21:27:20,912] Trial 13 finished with value: 0.8637956397834502 and parameters: {'alpha': 0.01120769169335759, 'fit_prior': False}. Best is trial 5 with value: 0.8638016170365956.\n",
            "[I 2025-06-13 21:27:21,315] Trial 15 finished with value: 0.8637141136222012 and parameters: {'alpha': 0.04308126652311441, 'fit_prior': False}. Best is trial 5 with value: 0.8638016170365956.\n",
            "[I 2025-06-13 21:27:21,334] Trial 14 finished with value: 0.8637141136222012 and parameters: {'alpha': 0.04348483970746177, 'fit_prior': False}. Best is trial 5 with value: 0.8638016170365956.\n",
            "[I 2025-06-13 21:27:21,733] Trial 16 finished with value: 0.8637155993916007 and parameters: {'alpha': 0.03815251963513496, 'fit_prior': True}. Best is trial 5 with value: 0.8638016170365956.\n",
            "[I 2025-06-13 21:27:21,752] Trial 17 finished with value: 0.863600108377424 and parameters: {'alpha': 0.32057609888807953, 'fit_prior': True}. Best is trial 5 with value: 0.8638016170365956.\n",
            "[I 2025-06-13 21:27:22,177] Trial 19 finished with value: 0.8636469842181612 and parameters: {'alpha': 0.10806147805272827, 'fit_prior': False}. Best is trial 5 with value: 0.8638016170365956.\n",
            "[I 2025-06-13 21:27:22,179] Trial 18 finished with value: 0.8636153161117318 and parameters: {'alpha': 0.14227405896144213, 'fit_prior': True}. Best is trial 5 with value: 0.8638016170365956.\n"
          ]
        },
        {
          "output_type": "stream",
          "name": "stdout",
          "text": [
            "Melhores parâmetros para Naive Bayes: {'alpha': 0.010731890214838275, 'fit_prior': True}\n"
          ]
        },
        {
          "output_type": "display_data",
          "data": {
            "text/html": [
              "<html>\n",
              "<head><meta charset=\"utf-8\" /></head>\n",
              "<body>\n",
              "    <div>            <script src=\"https://cdnjs.cloudflare.com/ajax/libs/mathjax/2.7.5/MathJax.js?config=TeX-AMS-MML_SVG\"></script><script type=\"text/javascript\">if (window.MathJax && window.MathJax.Hub && window.MathJax.Hub.Config) {window.MathJax.Hub.Config({SVG: {font: \"STIX-Web\"}});}</script>                <script type=\"text/javascript\">window.PlotlyConfig = {MathJaxConfig: 'local'};</script>\n",
              "        <script charset=\"utf-8\" src=\"https://cdn.plot.ly/plotly-2.35.2.min.js\"></script>                <div id=\"e811570a-6258-4771-a49e-5dec55ce83fd\" class=\"plotly-graph-div\" style=\"height:525px; width:100%;\"></div>            <script type=\"text/javascript\">                                    window.PLOTLYENV=window.PLOTLYENV || {};                                    if (document.getElementById(\"e811570a-6258-4771-a49e-5dec55ce83fd\")) {                    Plotly.newPlot(                        \"e811570a-6258-4771-a49e-5dec55ce83fd\",                        [{\"mode\":\"markers\",\"name\":\"Objective Value\",\"x\":[0,1,2,3,4,5,6,7,8,9,10,11,12,13,14,15,16,17,18,19],\"y\":[0.8635214681535853,0.8635079031573234,0.8637155993916007,0.8632771048099696,0.8634113928350747,0.8638016170365956,0.8637812981048122,0.8636153161117318,0.863560684646365,0.8637956397834502,0.8633110554143312,0.8636153161117318,0.8637956397834502,0.8637956397834502,0.8637141136222012,0.8637141136222012,0.8637155993916007,0.863600108377424,0.8636153161117318,0.8636469842181612],\"type\":\"scatter\"},{\"mode\":\"lines\",\"name\":\"Best Value\",\"x\":[0,1,2,3,4,5,6,7,8,9,10,11,12,13,14,15,16,17,18,19],\"y\":[0.8635214681535853,0.8635214681535853,0.8637155993916007,0.8637155993916007,0.8637155993916007,0.8638016170365956,0.8638016170365956,0.8638016170365956,0.8638016170365956,0.8638016170365956,0.8638016170365956,0.8638016170365956,0.8638016170365956,0.8638016170365956,0.8638016170365956,0.8638016170365956,0.8638016170365956,0.8638016170365956,0.8638016170365956,0.8638016170365956],\"type\":\"scatter\"},{\"marker\":{\"color\":\"#cccccc\"},\"mode\":\"markers\",\"name\":\"Infeasible Trial\",\"showlegend\":false,\"x\":[],\"y\":[],\"type\":\"scatter\"}],                        {\"title\":{\"text\":\"Optimization History Plot\"},\"xaxis\":{\"title\":{\"text\":\"Trial\"}},\"yaxis\":{\"title\":{\"text\":\"Objective Value\"}},\"template\":{\"data\":{\"histogram2dcontour\":[{\"type\":\"histogram2dcontour\",\"colorbar\":{\"outlinewidth\":0,\"ticks\":\"\"},\"colorscale\":[[0.0,\"#0d0887\"],[0.1111111111111111,\"#46039f\"],[0.2222222222222222,\"#7201a8\"],[0.3333333333333333,\"#9c179e\"],[0.4444444444444444,\"#bd3786\"],[0.5555555555555556,\"#d8576b\"],[0.6666666666666666,\"#ed7953\"],[0.7777777777777778,\"#fb9f3a\"],[0.8888888888888888,\"#fdca26\"],[1.0,\"#f0f921\"]]}],\"choropleth\":[{\"type\":\"choropleth\",\"colorbar\":{\"outlinewidth\":0,\"ticks\":\"\"}}],\"histogram2d\":[{\"type\":\"histogram2d\",\"colorbar\":{\"outlinewidth\":0,\"ticks\":\"\"},\"colorscale\":[[0.0,\"#0d0887\"],[0.1111111111111111,\"#46039f\"],[0.2222222222222222,\"#7201a8\"],[0.3333333333333333,\"#9c179e\"],[0.4444444444444444,\"#bd3786\"],[0.5555555555555556,\"#d8576b\"],[0.6666666666666666,\"#ed7953\"],[0.7777777777777778,\"#fb9f3a\"],[0.8888888888888888,\"#fdca26\"],[1.0,\"#f0f921\"]]}],\"heatmap\":[{\"type\":\"heatmap\",\"colorbar\":{\"outlinewidth\":0,\"ticks\":\"\"},\"colorscale\":[[0.0,\"#0d0887\"],[0.1111111111111111,\"#46039f\"],[0.2222222222222222,\"#7201a8\"],[0.3333333333333333,\"#9c179e\"],[0.4444444444444444,\"#bd3786\"],[0.5555555555555556,\"#d8576b\"],[0.6666666666666666,\"#ed7953\"],[0.7777777777777778,\"#fb9f3a\"],[0.8888888888888888,\"#fdca26\"],[1.0,\"#f0f921\"]]}],\"heatmapgl\":[{\"type\":\"heatmapgl\",\"colorbar\":{\"outlinewidth\":0,\"ticks\":\"\"},\"colorscale\":[[0.0,\"#0d0887\"],[0.1111111111111111,\"#46039f\"],[0.2222222222222222,\"#7201a8\"],[0.3333333333333333,\"#9c179e\"],[0.4444444444444444,\"#bd3786\"],[0.5555555555555556,\"#d8576b\"],[0.6666666666666666,\"#ed7953\"],[0.7777777777777778,\"#fb9f3a\"],[0.8888888888888888,\"#fdca26\"],[1.0,\"#f0f921\"]]}],\"contourcarpet\":[{\"type\":\"contourcarpet\",\"colorbar\":{\"outlinewidth\":0,\"ticks\":\"\"}}],\"contour\":[{\"type\":\"contour\",\"colorbar\":{\"outlinewidth\":0,\"ticks\":\"\"},\"colorscale\":[[0.0,\"#0d0887\"],[0.1111111111111111,\"#46039f\"],[0.2222222222222222,\"#7201a8\"],[0.3333333333333333,\"#9c179e\"],[0.4444444444444444,\"#bd3786\"],[0.5555555555555556,\"#d8576b\"],[0.6666666666666666,\"#ed7953\"],[0.7777777777777778,\"#fb9f3a\"],[0.8888888888888888,\"#fdca26\"],[1.0,\"#f0f921\"]]}],\"surface\":[{\"type\":\"surface\",\"colorbar\":{\"outlinewidth\":0,\"ticks\":\"\"},\"colorscale\":[[0.0,\"#0d0887\"],[0.1111111111111111,\"#46039f\"],[0.2222222222222222,\"#7201a8\"],[0.3333333333333333,\"#9c179e\"],[0.4444444444444444,\"#bd3786\"],[0.5555555555555556,\"#d8576b\"],[0.6666666666666666,\"#ed7953\"],[0.7777777777777778,\"#fb9f3a\"],[0.8888888888888888,\"#fdca26\"],[1.0,\"#f0f921\"]]}],\"mesh3d\":[{\"type\":\"mesh3d\",\"colorbar\":{\"outlinewidth\":0,\"ticks\":\"\"}}],\"scatter\":[{\"fillpattern\":{\"fillmode\":\"overlay\",\"size\":10,\"solidity\":0.2},\"type\":\"scatter\"}],\"parcoords\":[{\"type\":\"parcoords\",\"line\":{\"colorbar\":{\"outlinewidth\":0,\"ticks\":\"\"}}}],\"scatterpolargl\":[{\"type\":\"scatterpolargl\",\"marker\":{\"colorbar\":{\"outlinewidth\":0,\"ticks\":\"\"}}}],\"bar\":[{\"error_x\":{\"color\":\"#2a3f5f\"},\"error_y\":{\"color\":\"#2a3f5f\"},\"marker\":{\"line\":{\"color\":\"#E5ECF6\",\"width\":0.5},\"pattern\":{\"fillmode\":\"overlay\",\"size\":10,\"solidity\":0.2}},\"type\":\"bar\"}],\"scattergeo\":[{\"type\":\"scattergeo\",\"marker\":{\"colorbar\":{\"outlinewidth\":0,\"ticks\":\"\"}}}],\"scatterpolar\":[{\"type\":\"scatterpolar\",\"marker\":{\"colorbar\":{\"outlinewidth\":0,\"ticks\":\"\"}}}],\"histogram\":[{\"marker\":{\"pattern\":{\"fillmode\":\"overlay\",\"size\":10,\"solidity\":0.2}},\"type\":\"histogram\"}],\"scattergl\":[{\"type\":\"scattergl\",\"marker\":{\"colorbar\":{\"outlinewidth\":0,\"ticks\":\"\"}}}],\"scatter3d\":[{\"type\":\"scatter3d\",\"line\":{\"colorbar\":{\"outlinewidth\":0,\"ticks\":\"\"}},\"marker\":{\"colorbar\":{\"outlinewidth\":0,\"ticks\":\"\"}}}],\"scattermapbox\":[{\"type\":\"scattermapbox\",\"marker\":{\"colorbar\":{\"outlinewidth\":0,\"ticks\":\"\"}}}],\"scatterternary\":[{\"type\":\"scatterternary\",\"marker\":{\"colorbar\":{\"outlinewidth\":0,\"ticks\":\"\"}}}],\"scattercarpet\":[{\"type\":\"scattercarpet\",\"marker\":{\"colorbar\":{\"outlinewidth\":0,\"ticks\":\"\"}}}],\"carpet\":[{\"aaxis\":{\"endlinecolor\":\"#2a3f5f\",\"gridcolor\":\"white\",\"linecolor\":\"white\",\"minorgridcolor\":\"white\",\"startlinecolor\":\"#2a3f5f\"},\"baxis\":{\"endlinecolor\":\"#2a3f5f\",\"gridcolor\":\"white\",\"linecolor\":\"white\",\"minorgridcolor\":\"white\",\"startlinecolor\":\"#2a3f5f\"},\"type\":\"carpet\"}],\"table\":[{\"cells\":{\"fill\":{\"color\":\"#EBF0F8\"},\"line\":{\"color\":\"white\"}},\"header\":{\"fill\":{\"color\":\"#C8D4E3\"},\"line\":{\"color\":\"white\"}},\"type\":\"table\"}],\"barpolar\":[{\"marker\":{\"line\":{\"color\":\"#E5ECF6\",\"width\":0.5},\"pattern\":{\"fillmode\":\"overlay\",\"size\":10,\"solidity\":0.2}},\"type\":\"barpolar\"}],\"pie\":[{\"automargin\":true,\"type\":\"pie\"}]},\"layout\":{\"autotypenumbers\":\"strict\",\"colorway\":[\"#636efa\",\"#EF553B\",\"#00cc96\",\"#ab63fa\",\"#FFA15A\",\"#19d3f3\",\"#FF6692\",\"#B6E880\",\"#FF97FF\",\"#FECB52\"],\"font\":{\"color\":\"#2a3f5f\"},\"hovermode\":\"closest\",\"hoverlabel\":{\"align\":\"left\"},\"paper_bgcolor\":\"white\",\"plot_bgcolor\":\"#E5ECF6\",\"polar\":{\"bgcolor\":\"#E5ECF6\",\"angularaxis\":{\"gridcolor\":\"white\",\"linecolor\":\"white\",\"ticks\":\"\"},\"radialaxis\":{\"gridcolor\":\"white\",\"linecolor\":\"white\",\"ticks\":\"\"}},\"ternary\":{\"bgcolor\":\"#E5ECF6\",\"aaxis\":{\"gridcolor\":\"white\",\"linecolor\":\"white\",\"ticks\":\"\"},\"baxis\":{\"gridcolor\":\"white\",\"linecolor\":\"white\",\"ticks\":\"\"},\"caxis\":{\"gridcolor\":\"white\",\"linecolor\":\"white\",\"ticks\":\"\"}},\"coloraxis\":{\"colorbar\":{\"outlinewidth\":0,\"ticks\":\"\"}},\"colorscale\":{\"sequential\":[[0.0,\"#0d0887\"],[0.1111111111111111,\"#46039f\"],[0.2222222222222222,\"#7201a8\"],[0.3333333333333333,\"#9c179e\"],[0.4444444444444444,\"#bd3786\"],[0.5555555555555556,\"#d8576b\"],[0.6666666666666666,\"#ed7953\"],[0.7777777777777778,\"#fb9f3a\"],[0.8888888888888888,\"#fdca26\"],[1.0,\"#f0f921\"]],\"sequentialminus\":[[0.0,\"#0d0887\"],[0.1111111111111111,\"#46039f\"],[0.2222222222222222,\"#7201a8\"],[0.3333333333333333,\"#9c179e\"],[0.4444444444444444,\"#bd3786\"],[0.5555555555555556,\"#d8576b\"],[0.6666666666666666,\"#ed7953\"],[0.7777777777777778,\"#fb9f3a\"],[0.8888888888888888,\"#fdca26\"],[1.0,\"#f0f921\"]],\"diverging\":[[0,\"#8e0152\"],[0.1,\"#c51b7d\"],[0.2,\"#de77ae\"],[0.3,\"#f1b6da\"],[0.4,\"#fde0ef\"],[0.5,\"#f7f7f7\"],[0.6,\"#e6f5d0\"],[0.7,\"#b8e186\"],[0.8,\"#7fbc41\"],[0.9,\"#4d9221\"],[1,\"#276419\"]]},\"xaxis\":{\"gridcolor\":\"white\",\"linecolor\":\"white\",\"ticks\":\"\",\"title\":{\"standoff\":15},\"zerolinecolor\":\"white\",\"automargin\":true,\"zerolinewidth\":2},\"yaxis\":{\"gridcolor\":\"white\",\"linecolor\":\"white\",\"ticks\":\"\",\"title\":{\"standoff\":15},\"zerolinecolor\":\"white\",\"automargin\":true,\"zerolinewidth\":2},\"scene\":{\"xaxis\":{\"backgroundcolor\":\"#E5ECF6\",\"gridcolor\":\"white\",\"linecolor\":\"white\",\"showbackground\":true,\"ticks\":\"\",\"zerolinecolor\":\"white\",\"gridwidth\":2},\"yaxis\":{\"backgroundcolor\":\"#E5ECF6\",\"gridcolor\":\"white\",\"linecolor\":\"white\",\"showbackground\":true,\"ticks\":\"\",\"zerolinecolor\":\"white\",\"gridwidth\":2},\"zaxis\":{\"backgroundcolor\":\"#E5ECF6\",\"gridcolor\":\"white\",\"linecolor\":\"white\",\"showbackground\":true,\"ticks\":\"\",\"zerolinecolor\":\"white\",\"gridwidth\":2}},\"shapedefaults\":{\"line\":{\"color\":\"#2a3f5f\"}},\"annotationdefaults\":{\"arrowcolor\":\"#2a3f5f\",\"arrowhead\":0,\"arrowwidth\":1},\"geo\":{\"bgcolor\":\"white\",\"landcolor\":\"#E5ECF6\",\"subunitcolor\":\"white\",\"showland\":true,\"showlakes\":true,\"lakecolor\":\"white\"},\"title\":{\"x\":0.05},\"mapbox\":{\"style\":\"light\"}}}},                        {\"responsive\": true}                    ).then(function(){\n",
              "                            \n",
              "var gd = document.getElementById('e811570a-6258-4771-a49e-5dec55ce83fd');\n",
              "var x = new MutationObserver(function (mutations, observer) {{\n",
              "        var display = window.getComputedStyle(gd).display;\n",
              "        if (!display || display === 'none') {{\n",
              "            console.log([gd, 'removed!']);\n",
              "            Plotly.purge(gd);\n",
              "            observer.disconnect();\n",
              "        }}\n",
              "}});\n",
              "\n",
              "// Listen for the removal of the full notebook cells\n",
              "var notebookContainer = gd.closest('#notebook-container');\n",
              "if (notebookContainer) {{\n",
              "    x.observe(notebookContainer, {childList: true});\n",
              "}}\n",
              "\n",
              "// Listen for the clearing of the current output cell\n",
              "var outputEl = gd.closest('.output');\n",
              "if (outputEl) {{\n",
              "    x.observe(outputEl, {childList: true});\n",
              "}}\n",
              "\n",
              "                        })                };                            </script>        </div>\n",
              "</body>\n",
              "</html>"
            ]
          },
          "metadata": {}
        }
      ],
      "source": [
        "import optuna\n",
        "from sklearn.model_selection import cross_val_score\n",
        "from sklearn.naive_bayes import MultinomialNB\n",
        "\n",
        "# Função de objetivo para o Naive Bayes\n",
        "def objective_nb(trial):\n",
        "    # Hiperparâmetros a serem otimizados\n",
        "    params = {\n",
        "        'alpha': trial.suggest_float('alpha', 0.01, 10.0, log=True),  # Suavização de Laplace\n",
        "        'fit_prior': trial.suggest_categorical('fit_prior', [True, False])  # Aprender priors\n",
        "    }\n",
        "\n",
        "    # Modelo e avaliação com validação cruzada\n",
        "    model = MultinomialNB(**params)\n",
        "    score = cross_val_score(model, X_train_bow, y_train, cv=3, scoring='f1').mean()\n",
        "    return score\n",
        "\n",
        "# Executar otimização\n",
        "study_nb = optuna.create_study(direction='maximize', pruner=optuna.pruners.MedianPruner())\n",
        "study_nb.optimize(objective_nb, n_trials=20, n_jobs=-1)\n",
        "\n",
        "# Melhores hiperparâmetros\n",
        "print(\"Melhores parâmetros para Naive Bayes:\", study_nb.best_params)\n",
        "optuna.visualization.plot_optimization_history(study_nb)"
      ]
    },
    {
      "cell_type": "markdown",
      "metadata": {
        "id": "WA26rtNtU9lR"
      },
      "source": [
        "13. Otimizando o modelo TF-IDF com Regressao Logistica"
      ]
    },
    {
      "cell_type": "code",
      "execution_count": null,
      "metadata": {
        "colab": {
          "background_save": true,
          "base_uri": "https://localhost:8080/"
        },
        "id": "FI34yZrlVDsY",
        "outputId": "59f67b9b-bd59-4fed-f489-e15189221ffb",
        "collapsed": true
      },
      "outputs": [
        {
          "output_type": "stream",
          "name": "stderr",
          "text": [
            "[I 2025-06-13 21:27:37,325] A new study created in memory with name: no-name-1c369648-cc53-464f-a456-7f2d6f12dd5f\n",
            "[I 2025-06-13 21:27:43,699] Trial 1 finished with value: 0.9233198354450508 and parameters: {'C': 0.19283010357192515, 'penalty': 'l1', 'solver': 'liblinear'}. Best is trial 1 with value: 0.9233198354450508.\n",
            "[I 2025-06-13 21:27:51,414] Trial 2 finished with value: 0.9136869873835572 and parameters: {'C': 0.12796239476148358, 'penalty': 'l1', 'solver': 'liblinear'}. Best is trial 1 with value: 0.9233198354450508.\n",
            "[I 2025-06-13 21:27:59,744] Trial 0 finished with value: 0.9464267755527579 and parameters: {'C': 2.6462409300687018, 'penalty': 'l1', 'solver': 'liblinear'}. Best is trial 0 with value: 0.9464267755527579.\n",
            "[I 2025-06-13 21:28:14,010] Trial 3 finished with value: 0.9310287141815228 and parameters: {'C': 0.47923696523867976, 'penalty': 'l2', 'solver': 'saga'}. Best is trial 0 with value: 0.9464267755527579.\n",
            "[I 2025-06-13 21:28:17,925] Trial 4 finished with value: 0.9363284585497024 and parameters: {'C': 0.8402890152269179, 'penalty': 'l2', 'solver': 'saga'}. Best is trial 0 with value: 0.9464267755527579.\n",
            "[I 2025-06-13 21:28:49,967] Trial 6 finished with value: 0.9158138433793056 and parameters: {'C': 0.13999379205951226, 'penalty': 'l1', 'solver': 'saga'}. Best is trial 0 with value: 0.9464267755527579.\n",
            "[I 2025-06-13 21:28:53,345] Trial 7 finished with value: 0.9120662017610329 and parameters: {'C': 0.12566664410981476, 'penalty': 'l2', 'solver': 'liblinear'}. Best is trial 0 with value: 0.9464267755527579.\n",
            "[I 2025-06-13 21:29:25,430] Trial 8 finished with value: 0.9452199150597518 and parameters: {'C': 7.680725748226725, 'penalty': 'l2', 'solver': 'saga'}. Best is trial 0 with value: 0.9464267755527579.\n",
            "[I 2025-06-13 21:29:35,071] Trial 5 finished with value: 0.9379812646349154 and parameters: {'C': 0.5906786057218868, 'penalty': 'l1', 'solver': 'saga'}. Best is trial 0 with value: 0.9464267755527579.\n",
            "/usr/local/lib/python3.11/dist-packages/sklearn/linear_model/_sag.py:348: ConvergenceWarning:\n",
            "\n",
            "The max_iter was reached which means the coef_ did not converge\n",
            "\n",
            "/usr/local/lib/python3.11/dist-packages/sklearn/linear_model/_sag.py:348: ConvergenceWarning:\n",
            "\n",
            "The max_iter was reached which means the coef_ did not converge\n",
            "\n"
          ]
        }
      ],
      "source": [
        "import optuna\n",
        "from sklearn.model_selection import cross_val_score\n",
        "def objective_lr(trial):\n",
        "    # Hiperparâmetros a serem otimizados\n",
        "    params = {\n",
        "        'C': trial.suggest_float('C', 0.1, 10.0, log=True),\n",
        "        'penalty': trial.suggest_categorical('penalty', ['l1', 'l2']),\n",
        "        'solver': trial.suggest_categorical('solver', ['liblinear', 'saga'])\n",
        "    }\n",
        "\n",
        "    # Modelo e avaliação com validação cruzada\n",
        "    model = LogisticRegression(**params, max_iter=100)\n",
        "    score = cross_val_score(model, X_train_tfidf, y_train, cv=3, scoring='f1').mean()\n",
        "    return score\n",
        "\n",
        "# Otimização\n",
        "study_lr = optuna.create_study(direction='maximize', pruner=optuna.pruners.MedianPruner())\n",
        "study_lr.optimize(objective_lr, n_trials=10, n_jobs=-1)\n",
        "\n",
        "# Melhores hiperparâmetros\n",
        "print(\"Melhores parâmetros para LR:\", study_lr.best_params)\n",
        "optuna.visualization.plot_optimization_history(study_lr)"
      ]
    },
    {
      "cell_type": "markdown",
      "metadata": {
        "id": "f2GjNuvXVKW0"
      },
      "source": [
        "14. Otimizando o modelo Random Forest + Word2Vec"
      ]
    },
    {
      "cell_type": "code",
      "execution_count": null,
      "metadata": {
        "id": "rJkdTh6pVRnG"
      },
      "outputs": [],
      "source": [
        "import optuna\n",
        "from sklearn.model_selection import cross_val_score\n",
        "def objective_rf(trial):\n",
        "    params = {\n",
        "        'n_estimators': trial.suggest_int('n_estimators', 50, 200),\n",
        "        'max_depth': trial.suggest_int('max_depth', 5, 30),\n",
        "        'min_samples_split': trial.suggest_int('min_samples_split', 2, 10)\n",
        "    }\n",
        "\n",
        "    model = RandomForestClassifier(**params)\n",
        "    score = cross_val_score(model, X_train_w2v, y_train, cv=3, scoring='f1').mean()\n",
        "    return score\n",
        "\n",
        "study_rf = optuna.create_study(direction='maximize', pruner=optuna.pruners.MedianPruner())\n",
        "study_rf.optimize(objective_rf, n_trials=5, n_jobs=-1)\n",
        "optuna.visualization.plot_optimization_history(study_rf)"
      ]
    },
    {
      "cell_type": "markdown",
      "metadata": {
        "id": "TubF1bEpVYCF"
      },
      "source": [
        "15. Otimizando o modelo do XGBoost + GloVe"
      ]
    },
    {
      "cell_type": "code",
      "execution_count": null,
      "metadata": {
        "id": "M9iz5_8QVdvF"
      },
      "outputs": [],
      "source": [
        "import optuna\n",
        "from sklearn.model_selection import cross_val_score\n",
        "def objective_xgb(trial):\n",
        "    params = {\n",
        "        'learning_rate': trial.suggest_float('learning_rate', 0.01, 0.3),\n",
        "        'max_depth': trial.suggest_int('max_depth', 3, 10),\n",
        "        'subsample': trial.suggest_float('subsample', 0.5, 1.0),\n",
        "        'n_estimators': trial.suggest_int('n_estimators', 50, 200)\n",
        "    }\n",
        "\n",
        "    model = XGBClassifier(**params, eval_metric='logloss')\n",
        "    score = cross_val_score(model, X_train_glove, y_train, cv=3, scoring='f1').mean()\n",
        "    return score\n",
        "\n",
        "study_xgb = optuna.create_study(direction='maximize', pruner=optuna.pruners.MedianPruner())\n",
        "study_xgb.optimize(objective_xgb, n_trials=10, n_jobs=-1)\n",
        "optuna.visualization.plot_optimization_history(study_xgb)"
      ]
    },
    {
      "cell_type": "markdown",
      "metadata": {
        "id": "skSIsST1VtJm"
      },
      "source": [
        "16. Otimizando o modelo BERT + Fine-Tunning"
      ]
    },
    {
      "cell_type": "code",
      "execution_count": null,
      "metadata": {
        "id": "sMnXVoKyVy3j"
      },
      "outputs": [],
      "source": [
        "import optuna\n",
        "from sklearn.model_selection import cross_val_score\n",
        "def objective_bert(trial):\n",
        "    training_args = TrainingArguments(\n",
        "        output_dir=\"./results\",\n",
        "        learning_rate=trial.suggest_float('learning_rate', 1e-5, 5e-5, log=True),\n",
        "        per_device_train_batch_size=trial.suggest_categorical('batch_size', [8, 16]),\n",
        "        num_train_epochs=trial.suggest_int('num_epochs', 1, 3),\n",
        "        weight_decay=0.01,\n",
        "        evaluation_strategy=\"epoch\"\n",
        "    )\n",
        "\n",
        "    trainer = Trainer(\n",
        "        model=model,\n",
        "        args=training_args,\n",
        "        train_dataset=train_dataset,\n",
        "        eval_dataset=test_dataset\n",
        "    )\n",
        "\n",
        "    trainer.train()\n",
        "    results = trainer.evaluate()\n",
        "    return results['eval_loss']  # Minimizar a perda\n",
        "\n",
        "study_bert = optuna.create_study(direction='minimize', pruner=optuna.pruners.MedianPruner())\n",
        "study_bert.optimize(objective_bert, n_trials=5, n_jobs=-1)\n",
        "optuna.visualization.plot_optimization_history(study_bert)"
      ]
    },
    {
      "cell_type": "markdown",
      "metadata": {
        "id": "dyYPNv8kaT0A"
      },
      "source": [
        "17. Exibição das melhorias"
      ]
    },
    {
      "cell_type": "code",
      "execution_count": null,
      "metadata": {
        "id": "xZcDyXLvaWF_"
      },
      "outputs": [],
      "source": [
        "# ================================================\n",
        "# 1. Naive Bayes (NB) - Melhores Parâmetros\n",
        "# ================================================\n",
        "best_nb_params = study_nb.best_params\n",
        "best_nb_model = MultinomialNB(**best_nb_params)\n",
        "best_nb_model.fit(X_train_bow, y_train)\n",
        "y_pred_nb = best_nb_model.predict(X_test_bow)\n",
        "\n",
        "# Avaliação\n",
        "print(\"=== Naive Bayes (Otimizado) ===\")\n",
        "print(\"Acurácia:\", accuracy_score(y_test, y_pred_nb))\n",
        "print(\"F1-score:\", f1_score(y_test, y_pred_nb))\n",
        "\n",
        "# ================================================\n",
        "# 2. Logistic Regression (TF-IDF) - Melhores Parâmetros\n",
        "# ================================================\n",
        "best_lr_params = study_lr.best_params\n",
        "best_lr_model = LogisticRegression(**best_lr_params, max_iter=100)\n",
        "best_lr_model.fit(X_train_tfidf, y_train)\n",
        "y_pred_lr = best_lr_model.predict(X_test_tfidf)\n",
        "\n",
        "# Avaliação\n",
        "print(\"=== Logistic Regression (Otimizado) ===\")\n",
        "print(\"Acurácia:\", accuracy_score(y_test, y_pred_lr))\n",
        "print(\"F1-score:\", f1_score(y_test, y_pred_lr))\n",
        "\n",
        "# ================================================\n",
        "# 3. Random Forest (Word2Vec) - Melhores Parâmetros\n",
        "# ================================================\n",
        "best_rf_params = study_rf.best_params\n",
        "best_rf_model = RandomForestClassifier(**best_rf_params)\n",
        "best_rf_model.fit(X_train_w2v, y_train)\n",
        "y_pred_rf = best_rf_model.predict(X_test_w2v)\n",
        "\n",
        "# Avaliação\n",
        "print(\"\\\\n=== Random Forest (Otimizado) ===\")\n",
        "print(\"Acurácia:\", accuracy_score(y_test, y_pred_rf))\n",
        "print(\"F1-score:\", f1_score(y_test, y_pred_rf))\n",
        "\n",
        "# ================================================\n",
        "# 4. XGBoost (GloVe) - Melhores Parâmetros\n",
        "# ================================================\n",
        "best_xgb_params = study_xgb.best_params\n",
        "best_xgb_model = XGBClassifier(**best_xgb_params, eval_metric='logloss')\n",
        "best_xgb_model.fit(X_train_glove, y_train)\n",
        "y_pred_xgb = best_xgb_model.predict(X_test_glove)\n",
        "\n",
        "# Avaliação\n",
        "print(\"\\\\n=== XGBoost (Otimizado) ===\")\n",
        "print(\"Acurácia:\", accuracy_score(y_test, y_pred_xgb))\n",
        "print(\"F1-score:\", f1_score(y_test, y_pred_xgb))\n",
        "\n",
        "# ================================================\n",
        "# 5. BERT (Fine-Tuning) - Melhores Parâmetros\n",
        "# ================================================\n",
        "best_bert_params = study_bert.best_params\n",
        "\n",
        "# Configurar os argumentos de treino com os melhores parâmetros\n",
        "best_training_args = TrainingArguments(\n",
        "    output_dir=\"./results\",\n",
        "    learning_rate=best_bert_params['learning_rate'],\n",
        "    per_device_train_batch_size=best_bert_params['batch_size'],\n",
        "    num_train_epochs=best_bert_params['num_epochs'],\n",
        "    weight_decay=0.01,\n",
        "    evaluation_strategy=\"epoch\"\n",
        ")\n",
        "\n",
        "# Treinar o modelo final com todos os dados (sem validação cruzada)\n",
        "final_trainer = Trainer(\n",
        "    model=model,\n",
        "    args=best_training_args,\n",
        "    train_dataset=X_train,  # Use o dataset completo\n",
        "    eval_dataset=test_dataset\n",
        ")\n",
        "\n",
        "final_trainer.train()\n",
        "\n",
        "# Fazer previsões finais\n",
        "preds = final_trainer.predict(test_dataset)\n",
        "y_pred_bert = np.argmax(preds.predictions, axis=1)\n",
        "\n",
        "# Avaliação\n",
        "print(\"\\\\n=== BERT (Otimizado) ===\")\n",
        "print(\"Acurácia:\", accuracy_score(y_true_bert, y_pred_bert))\n",
        "print(\"F1-score:\", f1_score(y_true_bert, y_pred_bert))"
      ]
    },
    {
      "cell_type": "code",
      "source": [],
      "metadata": {
        "id": "rdVbzMVEMnal"
      },
      "execution_count": null,
      "outputs": []
    }
  ],
  "metadata": {
    "accelerator": "GPU",
    "colab": {
      "gpuType": "T4",
      "provenance": []
    },
    "kernelspec": {
      "display_name": "Python 3",
      "name": "python3"
    },
    "language_info": {
      "name": "python"
    },
    "widgets": {
      "application/vnd.jupyter.widget-state+json": {
        "fa446b161d08421a9d95d19cb34f7426": {
          "model_module": "@jupyter-widgets/controls",
          "model_name": "HBoxModel",
          "model_module_version": "1.5.0",
          "state": {
            "_dom_classes": [],
            "_model_module": "@jupyter-widgets/controls",
            "_model_module_version": "1.5.0",
            "_model_name": "HBoxModel",
            "_view_count": null,
            "_view_module": "@jupyter-widgets/controls",
            "_view_module_version": "1.5.0",
            "_view_name": "HBoxView",
            "box_style": "",
            "children": [
              "IPY_MODEL_7cd5612d53a749d2b40148385c4cfe6c",
              "IPY_MODEL_73d4f1313ba74c108df541736e9ac7cc",
              "IPY_MODEL_3b07739754eb40908e4655d3678d111d"
            ],
            "layout": "IPY_MODEL_2d0d5b5347b84b348b1f574e6a277d49"
          }
        },
        "7cd5612d53a749d2b40148385c4cfe6c": {
          "model_module": "@jupyter-widgets/controls",
          "model_name": "HTMLModel",
          "model_module_version": "1.5.0",
          "state": {
            "_dom_classes": [],
            "_model_module": "@jupyter-widgets/controls",
            "_model_module_version": "1.5.0",
            "_model_name": "HTMLModel",
            "_view_count": null,
            "_view_module": "@jupyter-widgets/controls",
            "_view_module_version": "1.5.0",
            "_view_name": "HTMLView",
            "description": "",
            "description_tooltip": null,
            "layout": "IPY_MODEL_c6dd570cfff640d9baba757c6b8d6047",
            "placeholder": "​",
            "style": "IPY_MODEL_cb5ff0e3aad84f3ea7143264de1e4df7",
            "value": "tokenizer_config.json: 100%"
          }
        },
        "73d4f1313ba74c108df541736e9ac7cc": {
          "model_module": "@jupyter-widgets/controls",
          "model_name": "FloatProgressModel",
          "model_module_version": "1.5.0",
          "state": {
            "_dom_classes": [],
            "_model_module": "@jupyter-widgets/controls",
            "_model_module_version": "1.5.0",
            "_model_name": "FloatProgressModel",
            "_view_count": null,
            "_view_module": "@jupyter-widgets/controls",
            "_view_module_version": "1.5.0",
            "_view_name": "ProgressView",
            "bar_style": "success",
            "description": "",
            "description_tooltip": null,
            "layout": "IPY_MODEL_b0e3969bf2a948669aef6e8396f9bc24",
            "max": 48,
            "min": 0,
            "orientation": "horizontal",
            "style": "IPY_MODEL_8dfb138014554c9e8116788c22d33592",
            "value": 48
          }
        },
        "3b07739754eb40908e4655d3678d111d": {
          "model_module": "@jupyter-widgets/controls",
          "model_name": "HTMLModel",
          "model_module_version": "1.5.0",
          "state": {
            "_dom_classes": [],
            "_model_module": "@jupyter-widgets/controls",
            "_model_module_version": "1.5.0",
            "_model_name": "HTMLModel",
            "_view_count": null,
            "_view_module": "@jupyter-widgets/controls",
            "_view_module_version": "1.5.0",
            "_view_name": "HTMLView",
            "description": "",
            "description_tooltip": null,
            "layout": "IPY_MODEL_a6d2684ee99344d2a6c1cf9bde9abc6b",
            "placeholder": "​",
            "style": "IPY_MODEL_c0d30496b1264d04b204802384f5ef2b",
            "value": " 48.0/48.0 [00:00&lt;00:00, 4.54kB/s]"
          }
        },
        "2d0d5b5347b84b348b1f574e6a277d49": {
          "model_module": "@jupyter-widgets/base",
          "model_name": "LayoutModel",
          "model_module_version": "1.2.0",
          "state": {
            "_model_module": "@jupyter-widgets/base",
            "_model_module_version": "1.2.0",
            "_model_name": "LayoutModel",
            "_view_count": null,
            "_view_module": "@jupyter-widgets/base",
            "_view_module_version": "1.2.0",
            "_view_name": "LayoutView",
            "align_content": null,
            "align_items": null,
            "align_self": null,
            "border": null,
            "bottom": null,
            "display": null,
            "flex": null,
            "flex_flow": null,
            "grid_area": null,
            "grid_auto_columns": null,
            "grid_auto_flow": null,
            "grid_auto_rows": null,
            "grid_column": null,
            "grid_gap": null,
            "grid_row": null,
            "grid_template_areas": null,
            "grid_template_columns": null,
            "grid_template_rows": null,
            "height": null,
            "justify_content": null,
            "justify_items": null,
            "left": null,
            "margin": null,
            "max_height": null,
            "max_width": null,
            "min_height": null,
            "min_width": null,
            "object_fit": null,
            "object_position": null,
            "order": null,
            "overflow": null,
            "overflow_x": null,
            "overflow_y": null,
            "padding": null,
            "right": null,
            "top": null,
            "visibility": null,
            "width": null
          }
        },
        "c6dd570cfff640d9baba757c6b8d6047": {
          "model_module": "@jupyter-widgets/base",
          "model_name": "LayoutModel",
          "model_module_version": "1.2.0",
          "state": {
            "_model_module": "@jupyter-widgets/base",
            "_model_module_version": "1.2.0",
            "_model_name": "LayoutModel",
            "_view_count": null,
            "_view_module": "@jupyter-widgets/base",
            "_view_module_version": "1.2.0",
            "_view_name": "LayoutView",
            "align_content": null,
            "align_items": null,
            "align_self": null,
            "border": null,
            "bottom": null,
            "display": null,
            "flex": null,
            "flex_flow": null,
            "grid_area": null,
            "grid_auto_columns": null,
            "grid_auto_flow": null,
            "grid_auto_rows": null,
            "grid_column": null,
            "grid_gap": null,
            "grid_row": null,
            "grid_template_areas": null,
            "grid_template_columns": null,
            "grid_template_rows": null,
            "height": null,
            "justify_content": null,
            "justify_items": null,
            "left": null,
            "margin": null,
            "max_height": null,
            "max_width": null,
            "min_height": null,
            "min_width": null,
            "object_fit": null,
            "object_position": null,
            "order": null,
            "overflow": null,
            "overflow_x": null,
            "overflow_y": null,
            "padding": null,
            "right": null,
            "top": null,
            "visibility": null,
            "width": null
          }
        },
        "cb5ff0e3aad84f3ea7143264de1e4df7": {
          "model_module": "@jupyter-widgets/controls",
          "model_name": "DescriptionStyleModel",
          "model_module_version": "1.5.0",
          "state": {
            "_model_module": "@jupyter-widgets/controls",
            "_model_module_version": "1.5.0",
            "_model_name": "DescriptionStyleModel",
            "_view_count": null,
            "_view_module": "@jupyter-widgets/base",
            "_view_module_version": "1.2.0",
            "_view_name": "StyleView",
            "description_width": ""
          }
        },
        "b0e3969bf2a948669aef6e8396f9bc24": {
          "model_module": "@jupyter-widgets/base",
          "model_name": "LayoutModel",
          "model_module_version": "1.2.0",
          "state": {
            "_model_module": "@jupyter-widgets/base",
            "_model_module_version": "1.2.0",
            "_model_name": "LayoutModel",
            "_view_count": null,
            "_view_module": "@jupyter-widgets/base",
            "_view_module_version": "1.2.0",
            "_view_name": "LayoutView",
            "align_content": null,
            "align_items": null,
            "align_self": null,
            "border": null,
            "bottom": null,
            "display": null,
            "flex": null,
            "flex_flow": null,
            "grid_area": null,
            "grid_auto_columns": null,
            "grid_auto_flow": null,
            "grid_auto_rows": null,
            "grid_column": null,
            "grid_gap": null,
            "grid_row": null,
            "grid_template_areas": null,
            "grid_template_columns": null,
            "grid_template_rows": null,
            "height": null,
            "justify_content": null,
            "justify_items": null,
            "left": null,
            "margin": null,
            "max_height": null,
            "max_width": null,
            "min_height": null,
            "min_width": null,
            "object_fit": null,
            "object_position": null,
            "order": null,
            "overflow": null,
            "overflow_x": null,
            "overflow_y": null,
            "padding": null,
            "right": null,
            "top": null,
            "visibility": null,
            "width": null
          }
        },
        "8dfb138014554c9e8116788c22d33592": {
          "model_module": "@jupyter-widgets/controls",
          "model_name": "ProgressStyleModel",
          "model_module_version": "1.5.0",
          "state": {
            "_model_module": "@jupyter-widgets/controls",
            "_model_module_version": "1.5.0",
            "_model_name": "ProgressStyleModel",
            "_view_count": null,
            "_view_module": "@jupyter-widgets/base",
            "_view_module_version": "1.2.0",
            "_view_name": "StyleView",
            "bar_color": null,
            "description_width": ""
          }
        },
        "a6d2684ee99344d2a6c1cf9bde9abc6b": {
          "model_module": "@jupyter-widgets/base",
          "model_name": "LayoutModel",
          "model_module_version": "1.2.0",
          "state": {
            "_model_module": "@jupyter-widgets/base",
            "_model_module_version": "1.2.0",
            "_model_name": "LayoutModel",
            "_view_count": null,
            "_view_module": "@jupyter-widgets/base",
            "_view_module_version": "1.2.0",
            "_view_name": "LayoutView",
            "align_content": null,
            "align_items": null,
            "align_self": null,
            "border": null,
            "bottom": null,
            "display": null,
            "flex": null,
            "flex_flow": null,
            "grid_area": null,
            "grid_auto_columns": null,
            "grid_auto_flow": null,
            "grid_auto_rows": null,
            "grid_column": null,
            "grid_gap": null,
            "grid_row": null,
            "grid_template_areas": null,
            "grid_template_columns": null,
            "grid_template_rows": null,
            "height": null,
            "justify_content": null,
            "justify_items": null,
            "left": null,
            "margin": null,
            "max_height": null,
            "max_width": null,
            "min_height": null,
            "min_width": null,
            "object_fit": null,
            "object_position": null,
            "order": null,
            "overflow": null,
            "overflow_x": null,
            "overflow_y": null,
            "padding": null,
            "right": null,
            "top": null,
            "visibility": null,
            "width": null
          }
        },
        "c0d30496b1264d04b204802384f5ef2b": {
          "model_module": "@jupyter-widgets/controls",
          "model_name": "DescriptionStyleModel",
          "model_module_version": "1.5.0",
          "state": {
            "_model_module": "@jupyter-widgets/controls",
            "_model_module_version": "1.5.0",
            "_model_name": "DescriptionStyleModel",
            "_view_count": null,
            "_view_module": "@jupyter-widgets/base",
            "_view_module_version": "1.2.0",
            "_view_name": "StyleView",
            "description_width": ""
          }
        },
        "58d63bc0d0ae489281613b6bed28b1b9": {
          "model_module": "@jupyter-widgets/controls",
          "model_name": "HBoxModel",
          "model_module_version": "1.5.0",
          "state": {
            "_dom_classes": [],
            "_model_module": "@jupyter-widgets/controls",
            "_model_module_version": "1.5.0",
            "_model_name": "HBoxModel",
            "_view_count": null,
            "_view_module": "@jupyter-widgets/controls",
            "_view_module_version": "1.5.0",
            "_view_name": "HBoxView",
            "box_style": "",
            "children": [
              "IPY_MODEL_36c5b13cce1c426aa8439c979b623401",
              "IPY_MODEL_77f30a188dc148209c1bf820db8ab19a",
              "IPY_MODEL_e71b9a81f78e4feba6eeb3e3a5bcf30a"
            ],
            "layout": "IPY_MODEL_a4b81048a2894513ada4299fdeeaadb7"
          }
        },
        "36c5b13cce1c426aa8439c979b623401": {
          "model_module": "@jupyter-widgets/controls",
          "model_name": "HTMLModel",
          "model_module_version": "1.5.0",
          "state": {
            "_dom_classes": [],
            "_model_module": "@jupyter-widgets/controls",
            "_model_module_version": "1.5.0",
            "_model_name": "HTMLModel",
            "_view_count": null,
            "_view_module": "@jupyter-widgets/controls",
            "_view_module_version": "1.5.0",
            "_view_name": "HTMLView",
            "description": "",
            "description_tooltip": null,
            "layout": "IPY_MODEL_3808e8c93aca4ef7a1b9167dd006c5b8",
            "placeholder": "​",
            "style": "IPY_MODEL_9c1999cb8f5f46eab6f5414c05ba5840",
            "value": "vocab.txt: 100%"
          }
        },
        "77f30a188dc148209c1bf820db8ab19a": {
          "model_module": "@jupyter-widgets/controls",
          "model_name": "FloatProgressModel",
          "model_module_version": "1.5.0",
          "state": {
            "_dom_classes": [],
            "_model_module": "@jupyter-widgets/controls",
            "_model_module_version": "1.5.0",
            "_model_name": "FloatProgressModel",
            "_view_count": null,
            "_view_module": "@jupyter-widgets/controls",
            "_view_module_version": "1.5.0",
            "_view_name": "ProgressView",
            "bar_style": "success",
            "description": "",
            "description_tooltip": null,
            "layout": "IPY_MODEL_bc14757d65e94cb5a059f7302dfbfe14",
            "max": 231508,
            "min": 0,
            "orientation": "horizontal",
            "style": "IPY_MODEL_374154c16d81409bab804d1aa5b06862",
            "value": 231508
          }
        },
        "e71b9a81f78e4feba6eeb3e3a5bcf30a": {
          "model_module": "@jupyter-widgets/controls",
          "model_name": "HTMLModel",
          "model_module_version": "1.5.0",
          "state": {
            "_dom_classes": [],
            "_model_module": "@jupyter-widgets/controls",
            "_model_module_version": "1.5.0",
            "_model_name": "HTMLModel",
            "_view_count": null,
            "_view_module": "@jupyter-widgets/controls",
            "_view_module_version": "1.5.0",
            "_view_name": "HTMLView",
            "description": "",
            "description_tooltip": null,
            "layout": "IPY_MODEL_857ebac5162543a69ad15c11d2ac991d",
            "placeholder": "​",
            "style": "IPY_MODEL_8fafc3de2b934f6abaa9736351e3570b",
            "value": " 232k/232k [00:00&lt;00:00, 7.46MB/s]"
          }
        },
        "a4b81048a2894513ada4299fdeeaadb7": {
          "model_module": "@jupyter-widgets/base",
          "model_name": "LayoutModel",
          "model_module_version": "1.2.0",
          "state": {
            "_model_module": "@jupyter-widgets/base",
            "_model_module_version": "1.2.0",
            "_model_name": "LayoutModel",
            "_view_count": null,
            "_view_module": "@jupyter-widgets/base",
            "_view_module_version": "1.2.0",
            "_view_name": "LayoutView",
            "align_content": null,
            "align_items": null,
            "align_self": null,
            "border": null,
            "bottom": null,
            "display": null,
            "flex": null,
            "flex_flow": null,
            "grid_area": null,
            "grid_auto_columns": null,
            "grid_auto_flow": null,
            "grid_auto_rows": null,
            "grid_column": null,
            "grid_gap": null,
            "grid_row": null,
            "grid_template_areas": null,
            "grid_template_columns": null,
            "grid_template_rows": null,
            "height": null,
            "justify_content": null,
            "justify_items": null,
            "left": null,
            "margin": null,
            "max_height": null,
            "max_width": null,
            "min_height": null,
            "min_width": null,
            "object_fit": null,
            "object_position": null,
            "order": null,
            "overflow": null,
            "overflow_x": null,
            "overflow_y": null,
            "padding": null,
            "right": null,
            "top": null,
            "visibility": null,
            "width": null
          }
        },
        "3808e8c93aca4ef7a1b9167dd006c5b8": {
          "model_module": "@jupyter-widgets/base",
          "model_name": "LayoutModel",
          "model_module_version": "1.2.0",
          "state": {
            "_model_module": "@jupyter-widgets/base",
            "_model_module_version": "1.2.0",
            "_model_name": "LayoutModel",
            "_view_count": null,
            "_view_module": "@jupyter-widgets/base",
            "_view_module_version": "1.2.0",
            "_view_name": "LayoutView",
            "align_content": null,
            "align_items": null,
            "align_self": null,
            "border": null,
            "bottom": null,
            "display": null,
            "flex": null,
            "flex_flow": null,
            "grid_area": null,
            "grid_auto_columns": null,
            "grid_auto_flow": null,
            "grid_auto_rows": null,
            "grid_column": null,
            "grid_gap": null,
            "grid_row": null,
            "grid_template_areas": null,
            "grid_template_columns": null,
            "grid_template_rows": null,
            "height": null,
            "justify_content": null,
            "justify_items": null,
            "left": null,
            "margin": null,
            "max_height": null,
            "max_width": null,
            "min_height": null,
            "min_width": null,
            "object_fit": null,
            "object_position": null,
            "order": null,
            "overflow": null,
            "overflow_x": null,
            "overflow_y": null,
            "padding": null,
            "right": null,
            "top": null,
            "visibility": null,
            "width": null
          }
        },
        "9c1999cb8f5f46eab6f5414c05ba5840": {
          "model_module": "@jupyter-widgets/controls",
          "model_name": "DescriptionStyleModel",
          "model_module_version": "1.5.0",
          "state": {
            "_model_module": "@jupyter-widgets/controls",
            "_model_module_version": "1.5.0",
            "_model_name": "DescriptionStyleModel",
            "_view_count": null,
            "_view_module": "@jupyter-widgets/base",
            "_view_module_version": "1.2.0",
            "_view_name": "StyleView",
            "description_width": ""
          }
        },
        "bc14757d65e94cb5a059f7302dfbfe14": {
          "model_module": "@jupyter-widgets/base",
          "model_name": "LayoutModel",
          "model_module_version": "1.2.0",
          "state": {
            "_model_module": "@jupyter-widgets/base",
            "_model_module_version": "1.2.0",
            "_model_name": "LayoutModel",
            "_view_count": null,
            "_view_module": "@jupyter-widgets/base",
            "_view_module_version": "1.2.0",
            "_view_name": "LayoutView",
            "align_content": null,
            "align_items": null,
            "align_self": null,
            "border": null,
            "bottom": null,
            "display": null,
            "flex": null,
            "flex_flow": null,
            "grid_area": null,
            "grid_auto_columns": null,
            "grid_auto_flow": null,
            "grid_auto_rows": null,
            "grid_column": null,
            "grid_gap": null,
            "grid_row": null,
            "grid_template_areas": null,
            "grid_template_columns": null,
            "grid_template_rows": null,
            "height": null,
            "justify_content": null,
            "justify_items": null,
            "left": null,
            "margin": null,
            "max_height": null,
            "max_width": null,
            "min_height": null,
            "min_width": null,
            "object_fit": null,
            "object_position": null,
            "order": null,
            "overflow": null,
            "overflow_x": null,
            "overflow_y": null,
            "padding": null,
            "right": null,
            "top": null,
            "visibility": null,
            "width": null
          }
        },
        "374154c16d81409bab804d1aa5b06862": {
          "model_module": "@jupyter-widgets/controls",
          "model_name": "ProgressStyleModel",
          "model_module_version": "1.5.0",
          "state": {
            "_model_module": "@jupyter-widgets/controls",
            "_model_module_version": "1.5.0",
            "_model_name": "ProgressStyleModel",
            "_view_count": null,
            "_view_module": "@jupyter-widgets/base",
            "_view_module_version": "1.2.0",
            "_view_name": "StyleView",
            "bar_color": null,
            "description_width": ""
          }
        },
        "857ebac5162543a69ad15c11d2ac991d": {
          "model_module": "@jupyter-widgets/base",
          "model_name": "LayoutModel",
          "model_module_version": "1.2.0",
          "state": {
            "_model_module": "@jupyter-widgets/base",
            "_model_module_version": "1.2.0",
            "_model_name": "LayoutModel",
            "_view_count": null,
            "_view_module": "@jupyter-widgets/base",
            "_view_module_version": "1.2.0",
            "_view_name": "LayoutView",
            "align_content": null,
            "align_items": null,
            "align_self": null,
            "border": null,
            "bottom": null,
            "display": null,
            "flex": null,
            "flex_flow": null,
            "grid_area": null,
            "grid_auto_columns": null,
            "grid_auto_flow": null,
            "grid_auto_rows": null,
            "grid_column": null,
            "grid_gap": null,
            "grid_row": null,
            "grid_template_areas": null,
            "grid_template_columns": null,
            "grid_template_rows": null,
            "height": null,
            "justify_content": null,
            "justify_items": null,
            "left": null,
            "margin": null,
            "max_height": null,
            "max_width": null,
            "min_height": null,
            "min_width": null,
            "object_fit": null,
            "object_position": null,
            "order": null,
            "overflow": null,
            "overflow_x": null,
            "overflow_y": null,
            "padding": null,
            "right": null,
            "top": null,
            "visibility": null,
            "width": null
          }
        },
        "8fafc3de2b934f6abaa9736351e3570b": {
          "model_module": "@jupyter-widgets/controls",
          "model_name": "DescriptionStyleModel",
          "model_module_version": "1.5.0",
          "state": {
            "_model_module": "@jupyter-widgets/controls",
            "_model_module_version": "1.5.0",
            "_model_name": "DescriptionStyleModel",
            "_view_count": null,
            "_view_module": "@jupyter-widgets/base",
            "_view_module_version": "1.2.0",
            "_view_name": "StyleView",
            "description_width": ""
          }
        },
        "469866158c3a4fc8bb9f2afef243a598": {
          "model_module": "@jupyter-widgets/controls",
          "model_name": "HBoxModel",
          "model_module_version": "1.5.0",
          "state": {
            "_dom_classes": [],
            "_model_module": "@jupyter-widgets/controls",
            "_model_module_version": "1.5.0",
            "_model_name": "HBoxModel",
            "_view_count": null,
            "_view_module": "@jupyter-widgets/controls",
            "_view_module_version": "1.5.0",
            "_view_name": "HBoxView",
            "box_style": "",
            "children": [
              "IPY_MODEL_22fd4ae0dd26402ab07efa4b45b27289",
              "IPY_MODEL_7c875009b604495ab1f1b3d78e0d4038",
              "IPY_MODEL_14e710eb4ae14cfbbd8b0e0b272073e2"
            ],
            "layout": "IPY_MODEL_e6c829564ade47d096489e6c2c64e5f9"
          }
        },
        "22fd4ae0dd26402ab07efa4b45b27289": {
          "model_module": "@jupyter-widgets/controls",
          "model_name": "HTMLModel",
          "model_module_version": "1.5.0",
          "state": {
            "_dom_classes": [],
            "_model_module": "@jupyter-widgets/controls",
            "_model_module_version": "1.5.0",
            "_model_name": "HTMLModel",
            "_view_count": null,
            "_view_module": "@jupyter-widgets/controls",
            "_view_module_version": "1.5.0",
            "_view_name": "HTMLView",
            "description": "",
            "description_tooltip": null,
            "layout": "IPY_MODEL_3c10f5eaf8aa4733b661eeef89f0e4d2",
            "placeholder": "​",
            "style": "IPY_MODEL_1f4fb22e150e45678ff8975adcc01478",
            "value": "tokenizer.json: 100%"
          }
        },
        "7c875009b604495ab1f1b3d78e0d4038": {
          "model_module": "@jupyter-widgets/controls",
          "model_name": "FloatProgressModel",
          "model_module_version": "1.5.0",
          "state": {
            "_dom_classes": [],
            "_model_module": "@jupyter-widgets/controls",
            "_model_module_version": "1.5.0",
            "_model_name": "FloatProgressModel",
            "_view_count": null,
            "_view_module": "@jupyter-widgets/controls",
            "_view_module_version": "1.5.0",
            "_view_name": "ProgressView",
            "bar_style": "success",
            "description": "",
            "description_tooltip": null,
            "layout": "IPY_MODEL_a16e135af0fb429e8da81f80bb52c872",
            "max": 466062,
            "min": 0,
            "orientation": "horizontal",
            "style": "IPY_MODEL_fb4d00515f444bd7a93c758b7eab6429",
            "value": 466062
          }
        },
        "14e710eb4ae14cfbbd8b0e0b272073e2": {
          "model_module": "@jupyter-widgets/controls",
          "model_name": "HTMLModel",
          "model_module_version": "1.5.0",
          "state": {
            "_dom_classes": [],
            "_model_module": "@jupyter-widgets/controls",
            "_model_module_version": "1.5.0",
            "_model_name": "HTMLModel",
            "_view_count": null,
            "_view_module": "@jupyter-widgets/controls",
            "_view_module_version": "1.5.0",
            "_view_name": "HTMLView",
            "description": "",
            "description_tooltip": null,
            "layout": "IPY_MODEL_44263ec9a183448cb7494926931a80ec",
            "placeholder": "​",
            "style": "IPY_MODEL_0eab991b531048e5bbe13f0391b85f4f",
            "value": " 466k/466k [00:00&lt;00:00, 3.10MB/s]"
          }
        },
        "e6c829564ade47d096489e6c2c64e5f9": {
          "model_module": "@jupyter-widgets/base",
          "model_name": "LayoutModel",
          "model_module_version": "1.2.0",
          "state": {
            "_model_module": "@jupyter-widgets/base",
            "_model_module_version": "1.2.0",
            "_model_name": "LayoutModel",
            "_view_count": null,
            "_view_module": "@jupyter-widgets/base",
            "_view_module_version": "1.2.0",
            "_view_name": "LayoutView",
            "align_content": null,
            "align_items": null,
            "align_self": null,
            "border": null,
            "bottom": null,
            "display": null,
            "flex": null,
            "flex_flow": null,
            "grid_area": null,
            "grid_auto_columns": null,
            "grid_auto_flow": null,
            "grid_auto_rows": null,
            "grid_column": null,
            "grid_gap": null,
            "grid_row": null,
            "grid_template_areas": null,
            "grid_template_columns": null,
            "grid_template_rows": null,
            "height": null,
            "justify_content": null,
            "justify_items": null,
            "left": null,
            "margin": null,
            "max_height": null,
            "max_width": null,
            "min_height": null,
            "min_width": null,
            "object_fit": null,
            "object_position": null,
            "order": null,
            "overflow": null,
            "overflow_x": null,
            "overflow_y": null,
            "padding": null,
            "right": null,
            "top": null,
            "visibility": null,
            "width": null
          }
        },
        "3c10f5eaf8aa4733b661eeef89f0e4d2": {
          "model_module": "@jupyter-widgets/base",
          "model_name": "LayoutModel",
          "model_module_version": "1.2.0",
          "state": {
            "_model_module": "@jupyter-widgets/base",
            "_model_module_version": "1.2.0",
            "_model_name": "LayoutModel",
            "_view_count": null,
            "_view_module": "@jupyter-widgets/base",
            "_view_module_version": "1.2.0",
            "_view_name": "LayoutView",
            "align_content": null,
            "align_items": null,
            "align_self": null,
            "border": null,
            "bottom": null,
            "display": null,
            "flex": null,
            "flex_flow": null,
            "grid_area": null,
            "grid_auto_columns": null,
            "grid_auto_flow": null,
            "grid_auto_rows": null,
            "grid_column": null,
            "grid_gap": null,
            "grid_row": null,
            "grid_template_areas": null,
            "grid_template_columns": null,
            "grid_template_rows": null,
            "height": null,
            "justify_content": null,
            "justify_items": null,
            "left": null,
            "margin": null,
            "max_height": null,
            "max_width": null,
            "min_height": null,
            "min_width": null,
            "object_fit": null,
            "object_position": null,
            "order": null,
            "overflow": null,
            "overflow_x": null,
            "overflow_y": null,
            "padding": null,
            "right": null,
            "top": null,
            "visibility": null,
            "width": null
          }
        },
        "1f4fb22e150e45678ff8975adcc01478": {
          "model_module": "@jupyter-widgets/controls",
          "model_name": "DescriptionStyleModel",
          "model_module_version": "1.5.0",
          "state": {
            "_model_module": "@jupyter-widgets/controls",
            "_model_module_version": "1.5.0",
            "_model_name": "DescriptionStyleModel",
            "_view_count": null,
            "_view_module": "@jupyter-widgets/base",
            "_view_module_version": "1.2.0",
            "_view_name": "StyleView",
            "description_width": ""
          }
        },
        "a16e135af0fb429e8da81f80bb52c872": {
          "model_module": "@jupyter-widgets/base",
          "model_name": "LayoutModel",
          "model_module_version": "1.2.0",
          "state": {
            "_model_module": "@jupyter-widgets/base",
            "_model_module_version": "1.2.0",
            "_model_name": "LayoutModel",
            "_view_count": null,
            "_view_module": "@jupyter-widgets/base",
            "_view_module_version": "1.2.0",
            "_view_name": "LayoutView",
            "align_content": null,
            "align_items": null,
            "align_self": null,
            "border": null,
            "bottom": null,
            "display": null,
            "flex": null,
            "flex_flow": null,
            "grid_area": null,
            "grid_auto_columns": null,
            "grid_auto_flow": null,
            "grid_auto_rows": null,
            "grid_column": null,
            "grid_gap": null,
            "grid_row": null,
            "grid_template_areas": null,
            "grid_template_columns": null,
            "grid_template_rows": null,
            "height": null,
            "justify_content": null,
            "justify_items": null,
            "left": null,
            "margin": null,
            "max_height": null,
            "max_width": null,
            "min_height": null,
            "min_width": null,
            "object_fit": null,
            "object_position": null,
            "order": null,
            "overflow": null,
            "overflow_x": null,
            "overflow_y": null,
            "padding": null,
            "right": null,
            "top": null,
            "visibility": null,
            "width": null
          }
        },
        "fb4d00515f444bd7a93c758b7eab6429": {
          "model_module": "@jupyter-widgets/controls",
          "model_name": "ProgressStyleModel",
          "model_module_version": "1.5.0",
          "state": {
            "_model_module": "@jupyter-widgets/controls",
            "_model_module_version": "1.5.0",
            "_model_name": "ProgressStyleModel",
            "_view_count": null,
            "_view_module": "@jupyter-widgets/base",
            "_view_module_version": "1.2.0",
            "_view_name": "StyleView",
            "bar_color": null,
            "description_width": ""
          }
        },
        "44263ec9a183448cb7494926931a80ec": {
          "model_module": "@jupyter-widgets/base",
          "model_name": "LayoutModel",
          "model_module_version": "1.2.0",
          "state": {
            "_model_module": "@jupyter-widgets/base",
            "_model_module_version": "1.2.0",
            "_model_name": "LayoutModel",
            "_view_count": null,
            "_view_module": "@jupyter-widgets/base",
            "_view_module_version": "1.2.0",
            "_view_name": "LayoutView",
            "align_content": null,
            "align_items": null,
            "align_self": null,
            "border": null,
            "bottom": null,
            "display": null,
            "flex": null,
            "flex_flow": null,
            "grid_area": null,
            "grid_auto_columns": null,
            "grid_auto_flow": null,
            "grid_auto_rows": null,
            "grid_column": null,
            "grid_gap": null,
            "grid_row": null,
            "grid_template_areas": null,
            "grid_template_columns": null,
            "grid_template_rows": null,
            "height": null,
            "justify_content": null,
            "justify_items": null,
            "left": null,
            "margin": null,
            "max_height": null,
            "max_width": null,
            "min_height": null,
            "min_width": null,
            "object_fit": null,
            "object_position": null,
            "order": null,
            "overflow": null,
            "overflow_x": null,
            "overflow_y": null,
            "padding": null,
            "right": null,
            "top": null,
            "visibility": null,
            "width": null
          }
        },
        "0eab991b531048e5bbe13f0391b85f4f": {
          "model_module": "@jupyter-widgets/controls",
          "model_name": "DescriptionStyleModel",
          "model_module_version": "1.5.0",
          "state": {
            "_model_module": "@jupyter-widgets/controls",
            "_model_module_version": "1.5.0",
            "_model_name": "DescriptionStyleModel",
            "_view_count": null,
            "_view_module": "@jupyter-widgets/base",
            "_view_module_version": "1.2.0",
            "_view_name": "StyleView",
            "description_width": ""
          }
        },
        "0c50220d320048aeb149ce027cc46abc": {
          "model_module": "@jupyter-widgets/controls",
          "model_name": "HBoxModel",
          "model_module_version": "1.5.0",
          "state": {
            "_dom_classes": [],
            "_model_module": "@jupyter-widgets/controls",
            "_model_module_version": "1.5.0",
            "_model_name": "HBoxModel",
            "_view_count": null,
            "_view_module": "@jupyter-widgets/controls",
            "_view_module_version": "1.5.0",
            "_view_name": "HBoxView",
            "box_style": "",
            "children": [
              "IPY_MODEL_50ca6412ee5a4edfb22676c11ab93412",
              "IPY_MODEL_8e3ec075150e4a2ab86ea2368b86a0a5",
              "IPY_MODEL_27fa63ea63ee479ba01e469077462c92"
            ],
            "layout": "IPY_MODEL_b09bce0d63f14f36a8eecb19fa4553ac"
          }
        },
        "50ca6412ee5a4edfb22676c11ab93412": {
          "model_module": "@jupyter-widgets/controls",
          "model_name": "HTMLModel",
          "model_module_version": "1.5.0",
          "state": {
            "_dom_classes": [],
            "_model_module": "@jupyter-widgets/controls",
            "_model_module_version": "1.5.0",
            "_model_name": "HTMLModel",
            "_view_count": null,
            "_view_module": "@jupyter-widgets/controls",
            "_view_module_version": "1.5.0",
            "_view_name": "HTMLView",
            "description": "",
            "description_tooltip": null,
            "layout": "IPY_MODEL_ceeed2359cbb42f0b92b26a6c91d9169",
            "placeholder": "​",
            "style": "IPY_MODEL_45c41b6e78f04a3c9e5aa0686fd161ab",
            "value": "config.json: 100%"
          }
        },
        "8e3ec075150e4a2ab86ea2368b86a0a5": {
          "model_module": "@jupyter-widgets/controls",
          "model_name": "FloatProgressModel",
          "model_module_version": "1.5.0",
          "state": {
            "_dom_classes": [],
            "_model_module": "@jupyter-widgets/controls",
            "_model_module_version": "1.5.0",
            "_model_name": "FloatProgressModel",
            "_view_count": null,
            "_view_module": "@jupyter-widgets/controls",
            "_view_module_version": "1.5.0",
            "_view_name": "ProgressView",
            "bar_style": "success",
            "description": "",
            "description_tooltip": null,
            "layout": "IPY_MODEL_8110c02a7f5e439e91297485a40051be",
            "max": 570,
            "min": 0,
            "orientation": "horizontal",
            "style": "IPY_MODEL_5468a6a021634c78aa35d84e2c211644",
            "value": 570
          }
        },
        "27fa63ea63ee479ba01e469077462c92": {
          "model_module": "@jupyter-widgets/controls",
          "model_name": "HTMLModel",
          "model_module_version": "1.5.0",
          "state": {
            "_dom_classes": [],
            "_model_module": "@jupyter-widgets/controls",
            "_model_module_version": "1.5.0",
            "_model_name": "HTMLModel",
            "_view_count": null,
            "_view_module": "@jupyter-widgets/controls",
            "_view_module_version": "1.5.0",
            "_view_name": "HTMLView",
            "description": "",
            "description_tooltip": null,
            "layout": "IPY_MODEL_7c6ac31e4aae400bb55aa41b374a4de8",
            "placeholder": "​",
            "style": "IPY_MODEL_090dce83d68a4c68a0f164abd69a79b4",
            "value": " 570/570 [00:00&lt;00:00, 38.1kB/s]"
          }
        },
        "b09bce0d63f14f36a8eecb19fa4553ac": {
          "model_module": "@jupyter-widgets/base",
          "model_name": "LayoutModel",
          "model_module_version": "1.2.0",
          "state": {
            "_model_module": "@jupyter-widgets/base",
            "_model_module_version": "1.2.0",
            "_model_name": "LayoutModel",
            "_view_count": null,
            "_view_module": "@jupyter-widgets/base",
            "_view_module_version": "1.2.0",
            "_view_name": "LayoutView",
            "align_content": null,
            "align_items": null,
            "align_self": null,
            "border": null,
            "bottom": null,
            "display": null,
            "flex": null,
            "flex_flow": null,
            "grid_area": null,
            "grid_auto_columns": null,
            "grid_auto_flow": null,
            "grid_auto_rows": null,
            "grid_column": null,
            "grid_gap": null,
            "grid_row": null,
            "grid_template_areas": null,
            "grid_template_columns": null,
            "grid_template_rows": null,
            "height": null,
            "justify_content": null,
            "justify_items": null,
            "left": null,
            "margin": null,
            "max_height": null,
            "max_width": null,
            "min_height": null,
            "min_width": null,
            "object_fit": null,
            "object_position": null,
            "order": null,
            "overflow": null,
            "overflow_x": null,
            "overflow_y": null,
            "padding": null,
            "right": null,
            "top": null,
            "visibility": null,
            "width": null
          }
        },
        "ceeed2359cbb42f0b92b26a6c91d9169": {
          "model_module": "@jupyter-widgets/base",
          "model_name": "LayoutModel",
          "model_module_version": "1.2.0",
          "state": {
            "_model_module": "@jupyter-widgets/base",
            "_model_module_version": "1.2.0",
            "_model_name": "LayoutModel",
            "_view_count": null,
            "_view_module": "@jupyter-widgets/base",
            "_view_module_version": "1.2.0",
            "_view_name": "LayoutView",
            "align_content": null,
            "align_items": null,
            "align_self": null,
            "border": null,
            "bottom": null,
            "display": null,
            "flex": null,
            "flex_flow": null,
            "grid_area": null,
            "grid_auto_columns": null,
            "grid_auto_flow": null,
            "grid_auto_rows": null,
            "grid_column": null,
            "grid_gap": null,
            "grid_row": null,
            "grid_template_areas": null,
            "grid_template_columns": null,
            "grid_template_rows": null,
            "height": null,
            "justify_content": null,
            "justify_items": null,
            "left": null,
            "margin": null,
            "max_height": null,
            "max_width": null,
            "min_height": null,
            "min_width": null,
            "object_fit": null,
            "object_position": null,
            "order": null,
            "overflow": null,
            "overflow_x": null,
            "overflow_y": null,
            "padding": null,
            "right": null,
            "top": null,
            "visibility": null,
            "width": null
          }
        },
        "45c41b6e78f04a3c9e5aa0686fd161ab": {
          "model_module": "@jupyter-widgets/controls",
          "model_name": "DescriptionStyleModel",
          "model_module_version": "1.5.0",
          "state": {
            "_model_module": "@jupyter-widgets/controls",
            "_model_module_version": "1.5.0",
            "_model_name": "DescriptionStyleModel",
            "_view_count": null,
            "_view_module": "@jupyter-widgets/base",
            "_view_module_version": "1.2.0",
            "_view_name": "StyleView",
            "description_width": ""
          }
        },
        "8110c02a7f5e439e91297485a40051be": {
          "model_module": "@jupyter-widgets/base",
          "model_name": "LayoutModel",
          "model_module_version": "1.2.0",
          "state": {
            "_model_module": "@jupyter-widgets/base",
            "_model_module_version": "1.2.0",
            "_model_name": "LayoutModel",
            "_view_count": null,
            "_view_module": "@jupyter-widgets/base",
            "_view_module_version": "1.2.0",
            "_view_name": "LayoutView",
            "align_content": null,
            "align_items": null,
            "align_self": null,
            "border": null,
            "bottom": null,
            "display": null,
            "flex": null,
            "flex_flow": null,
            "grid_area": null,
            "grid_auto_columns": null,
            "grid_auto_flow": null,
            "grid_auto_rows": null,
            "grid_column": null,
            "grid_gap": null,
            "grid_row": null,
            "grid_template_areas": null,
            "grid_template_columns": null,
            "grid_template_rows": null,
            "height": null,
            "justify_content": null,
            "justify_items": null,
            "left": null,
            "margin": null,
            "max_height": null,
            "max_width": null,
            "min_height": null,
            "min_width": null,
            "object_fit": null,
            "object_position": null,
            "order": null,
            "overflow": null,
            "overflow_x": null,
            "overflow_y": null,
            "padding": null,
            "right": null,
            "top": null,
            "visibility": null,
            "width": null
          }
        },
        "5468a6a021634c78aa35d84e2c211644": {
          "model_module": "@jupyter-widgets/controls",
          "model_name": "ProgressStyleModel",
          "model_module_version": "1.5.0",
          "state": {
            "_model_module": "@jupyter-widgets/controls",
            "_model_module_version": "1.5.0",
            "_model_name": "ProgressStyleModel",
            "_view_count": null,
            "_view_module": "@jupyter-widgets/base",
            "_view_module_version": "1.2.0",
            "_view_name": "StyleView",
            "bar_color": null,
            "description_width": ""
          }
        },
        "7c6ac31e4aae400bb55aa41b374a4de8": {
          "model_module": "@jupyter-widgets/base",
          "model_name": "LayoutModel",
          "model_module_version": "1.2.0",
          "state": {
            "_model_module": "@jupyter-widgets/base",
            "_model_module_version": "1.2.0",
            "_model_name": "LayoutModel",
            "_view_count": null,
            "_view_module": "@jupyter-widgets/base",
            "_view_module_version": "1.2.0",
            "_view_name": "LayoutView",
            "align_content": null,
            "align_items": null,
            "align_self": null,
            "border": null,
            "bottom": null,
            "display": null,
            "flex": null,
            "flex_flow": null,
            "grid_area": null,
            "grid_auto_columns": null,
            "grid_auto_flow": null,
            "grid_auto_rows": null,
            "grid_column": null,
            "grid_gap": null,
            "grid_row": null,
            "grid_template_areas": null,
            "grid_template_columns": null,
            "grid_template_rows": null,
            "height": null,
            "justify_content": null,
            "justify_items": null,
            "left": null,
            "margin": null,
            "max_height": null,
            "max_width": null,
            "min_height": null,
            "min_width": null,
            "object_fit": null,
            "object_position": null,
            "order": null,
            "overflow": null,
            "overflow_x": null,
            "overflow_y": null,
            "padding": null,
            "right": null,
            "top": null,
            "visibility": null,
            "width": null
          }
        },
        "090dce83d68a4c68a0f164abd69a79b4": {
          "model_module": "@jupyter-widgets/controls",
          "model_name": "DescriptionStyleModel",
          "model_module_version": "1.5.0",
          "state": {
            "_model_module": "@jupyter-widgets/controls",
            "_model_module_version": "1.5.0",
            "_model_name": "DescriptionStyleModel",
            "_view_count": null,
            "_view_module": "@jupyter-widgets/base",
            "_view_module_version": "1.2.0",
            "_view_name": "StyleView",
            "description_width": ""
          }
        },
        "c75dad1e240243fa9f7df3d97bbc230b": {
          "model_module": "@jupyter-widgets/controls",
          "model_name": "HBoxModel",
          "model_module_version": "1.5.0",
          "state": {
            "_dom_classes": [],
            "_model_module": "@jupyter-widgets/controls",
            "_model_module_version": "1.5.0",
            "_model_name": "HBoxModel",
            "_view_count": null,
            "_view_module": "@jupyter-widgets/controls",
            "_view_module_version": "1.5.0",
            "_view_name": "HBoxView",
            "box_style": "",
            "children": [
              "IPY_MODEL_f4d9a46e6956497db4739979386edcb0",
              "IPY_MODEL_cf01f00f5f4f48329ebaeb1d63a8d22a",
              "IPY_MODEL_20f136b8a55e47ca92a4adf64363a851"
            ],
            "layout": "IPY_MODEL_7a3827ba38c94f038d0dc4d751c66bed"
          }
        },
        "f4d9a46e6956497db4739979386edcb0": {
          "model_module": "@jupyter-widgets/controls",
          "model_name": "HTMLModel",
          "model_module_version": "1.5.0",
          "state": {
            "_dom_classes": [],
            "_model_module": "@jupyter-widgets/controls",
            "_model_module_version": "1.5.0",
            "_model_name": "HTMLModel",
            "_view_count": null,
            "_view_module": "@jupyter-widgets/controls",
            "_view_module_version": "1.5.0",
            "_view_name": "HTMLView",
            "description": "",
            "description_tooltip": null,
            "layout": "IPY_MODEL_3c84171a0ba54aeaa15c0383517d9cc5",
            "placeholder": "​",
            "style": "IPY_MODEL_20632eed8e4c4c2d9dfac12231739ab0",
            "value": "model.safetensors: 100%"
          }
        },
        "cf01f00f5f4f48329ebaeb1d63a8d22a": {
          "model_module": "@jupyter-widgets/controls",
          "model_name": "FloatProgressModel",
          "model_module_version": "1.5.0",
          "state": {
            "_dom_classes": [],
            "_model_module": "@jupyter-widgets/controls",
            "_model_module_version": "1.5.0",
            "_model_name": "FloatProgressModel",
            "_view_count": null,
            "_view_module": "@jupyter-widgets/controls",
            "_view_module_version": "1.5.0",
            "_view_name": "ProgressView",
            "bar_style": "success",
            "description": "",
            "description_tooltip": null,
            "layout": "IPY_MODEL_4a6810bf68c84d1da3235cab998972ae",
            "max": 440449768,
            "min": 0,
            "orientation": "horizontal",
            "style": "IPY_MODEL_ed1ea185c4834b7792914d61d401c260",
            "value": 440449768
          }
        },
        "20f136b8a55e47ca92a4adf64363a851": {
          "model_module": "@jupyter-widgets/controls",
          "model_name": "HTMLModel",
          "model_module_version": "1.5.0",
          "state": {
            "_dom_classes": [],
            "_model_module": "@jupyter-widgets/controls",
            "_model_module_version": "1.5.0",
            "_model_name": "HTMLModel",
            "_view_count": null,
            "_view_module": "@jupyter-widgets/controls",
            "_view_module_version": "1.5.0",
            "_view_name": "HTMLView",
            "description": "",
            "description_tooltip": null,
            "layout": "IPY_MODEL_c7c3f6bdd1c343e8b982b08bc7587e8e",
            "placeholder": "​",
            "style": "IPY_MODEL_15e7579ef30d43cc9cbb45d4aae3173b",
            "value": " 440M/440M [00:10&lt;00:00, 63.9MB/s]"
          }
        },
        "7a3827ba38c94f038d0dc4d751c66bed": {
          "model_module": "@jupyter-widgets/base",
          "model_name": "LayoutModel",
          "model_module_version": "1.2.0",
          "state": {
            "_model_module": "@jupyter-widgets/base",
            "_model_module_version": "1.2.0",
            "_model_name": "LayoutModel",
            "_view_count": null,
            "_view_module": "@jupyter-widgets/base",
            "_view_module_version": "1.2.0",
            "_view_name": "LayoutView",
            "align_content": null,
            "align_items": null,
            "align_self": null,
            "border": null,
            "bottom": null,
            "display": null,
            "flex": null,
            "flex_flow": null,
            "grid_area": null,
            "grid_auto_columns": null,
            "grid_auto_flow": null,
            "grid_auto_rows": null,
            "grid_column": null,
            "grid_gap": null,
            "grid_row": null,
            "grid_template_areas": null,
            "grid_template_columns": null,
            "grid_template_rows": null,
            "height": null,
            "justify_content": null,
            "justify_items": null,
            "left": null,
            "margin": null,
            "max_height": null,
            "max_width": null,
            "min_height": null,
            "min_width": null,
            "object_fit": null,
            "object_position": null,
            "order": null,
            "overflow": null,
            "overflow_x": null,
            "overflow_y": null,
            "padding": null,
            "right": null,
            "top": null,
            "visibility": null,
            "width": null
          }
        },
        "3c84171a0ba54aeaa15c0383517d9cc5": {
          "model_module": "@jupyter-widgets/base",
          "model_name": "LayoutModel",
          "model_module_version": "1.2.0",
          "state": {
            "_model_module": "@jupyter-widgets/base",
            "_model_module_version": "1.2.0",
            "_model_name": "LayoutModel",
            "_view_count": null,
            "_view_module": "@jupyter-widgets/base",
            "_view_module_version": "1.2.0",
            "_view_name": "LayoutView",
            "align_content": null,
            "align_items": null,
            "align_self": null,
            "border": null,
            "bottom": null,
            "display": null,
            "flex": null,
            "flex_flow": null,
            "grid_area": null,
            "grid_auto_columns": null,
            "grid_auto_flow": null,
            "grid_auto_rows": null,
            "grid_column": null,
            "grid_gap": null,
            "grid_row": null,
            "grid_template_areas": null,
            "grid_template_columns": null,
            "grid_template_rows": null,
            "height": null,
            "justify_content": null,
            "justify_items": null,
            "left": null,
            "margin": null,
            "max_height": null,
            "max_width": null,
            "min_height": null,
            "min_width": null,
            "object_fit": null,
            "object_position": null,
            "order": null,
            "overflow": null,
            "overflow_x": null,
            "overflow_y": null,
            "padding": null,
            "right": null,
            "top": null,
            "visibility": null,
            "width": null
          }
        },
        "20632eed8e4c4c2d9dfac12231739ab0": {
          "model_module": "@jupyter-widgets/controls",
          "model_name": "DescriptionStyleModel",
          "model_module_version": "1.5.0",
          "state": {
            "_model_module": "@jupyter-widgets/controls",
            "_model_module_version": "1.5.0",
            "_model_name": "DescriptionStyleModel",
            "_view_count": null,
            "_view_module": "@jupyter-widgets/base",
            "_view_module_version": "1.2.0",
            "_view_name": "StyleView",
            "description_width": ""
          }
        },
        "4a6810bf68c84d1da3235cab998972ae": {
          "model_module": "@jupyter-widgets/base",
          "model_name": "LayoutModel",
          "model_module_version": "1.2.0",
          "state": {
            "_model_module": "@jupyter-widgets/base",
            "_model_module_version": "1.2.0",
            "_model_name": "LayoutModel",
            "_view_count": null,
            "_view_module": "@jupyter-widgets/base",
            "_view_module_version": "1.2.0",
            "_view_name": "LayoutView",
            "align_content": null,
            "align_items": null,
            "align_self": null,
            "border": null,
            "bottom": null,
            "display": null,
            "flex": null,
            "flex_flow": null,
            "grid_area": null,
            "grid_auto_columns": null,
            "grid_auto_flow": null,
            "grid_auto_rows": null,
            "grid_column": null,
            "grid_gap": null,
            "grid_row": null,
            "grid_template_areas": null,
            "grid_template_columns": null,
            "grid_template_rows": null,
            "height": null,
            "justify_content": null,
            "justify_items": null,
            "left": null,
            "margin": null,
            "max_height": null,
            "max_width": null,
            "min_height": null,
            "min_width": null,
            "object_fit": null,
            "object_position": null,
            "order": null,
            "overflow": null,
            "overflow_x": null,
            "overflow_y": null,
            "padding": null,
            "right": null,
            "top": null,
            "visibility": null,
            "width": null
          }
        },
        "ed1ea185c4834b7792914d61d401c260": {
          "model_module": "@jupyter-widgets/controls",
          "model_name": "ProgressStyleModel",
          "model_module_version": "1.5.0",
          "state": {
            "_model_module": "@jupyter-widgets/controls",
            "_model_module_version": "1.5.0",
            "_model_name": "ProgressStyleModel",
            "_view_count": null,
            "_view_module": "@jupyter-widgets/base",
            "_view_module_version": "1.2.0",
            "_view_name": "StyleView",
            "bar_color": null,
            "description_width": ""
          }
        },
        "c7c3f6bdd1c343e8b982b08bc7587e8e": {
          "model_module": "@jupyter-widgets/base",
          "model_name": "LayoutModel",
          "model_module_version": "1.2.0",
          "state": {
            "_model_module": "@jupyter-widgets/base",
            "_model_module_version": "1.2.0",
            "_model_name": "LayoutModel",
            "_view_count": null,
            "_view_module": "@jupyter-widgets/base",
            "_view_module_version": "1.2.0",
            "_view_name": "LayoutView",
            "align_content": null,
            "align_items": null,
            "align_self": null,
            "border": null,
            "bottom": null,
            "display": null,
            "flex": null,
            "flex_flow": null,
            "grid_area": null,
            "grid_auto_columns": null,
            "grid_auto_flow": null,
            "grid_auto_rows": null,
            "grid_column": null,
            "grid_gap": null,
            "grid_row": null,
            "grid_template_areas": null,
            "grid_template_columns": null,
            "grid_template_rows": null,
            "height": null,
            "justify_content": null,
            "justify_items": null,
            "left": null,
            "margin": null,
            "max_height": null,
            "max_width": null,
            "min_height": null,
            "min_width": null,
            "object_fit": null,
            "object_position": null,
            "order": null,
            "overflow": null,
            "overflow_x": null,
            "overflow_y": null,
            "padding": null,
            "right": null,
            "top": null,
            "visibility": null,
            "width": null
          }
        },
        "15e7579ef30d43cc9cbb45d4aae3173b": {
          "model_module": "@jupyter-widgets/controls",
          "model_name": "DescriptionStyleModel",
          "model_module_version": "1.5.0",
          "state": {
            "_model_module": "@jupyter-widgets/controls",
            "_model_module_version": "1.5.0",
            "_model_name": "DescriptionStyleModel",
            "_view_count": null,
            "_view_module": "@jupyter-widgets/base",
            "_view_module_version": "1.2.0",
            "_view_name": "StyleView",
            "description_width": ""
          }
        }
      }
    }
  },
  "nbformat": 4,
  "nbformat_minor": 0
}